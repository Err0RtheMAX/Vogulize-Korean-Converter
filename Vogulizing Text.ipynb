{
 "cells": [
  {
   "cell_type": "code",
   "execution_count": 91,
   "outputs": [],
   "source": [
    "import konlpy\n",
    "import json\n",
    "import urllib.request\n",
    "import requests\n",
    "import re\n",
    "from googletrans import Translator"
   ],
   "metadata": {
    "collapsed": false,
    "pycharm": {
     "name": "#%%\n"
    }
   }
  },
  {
   "cell_type": "code",
   "execution_count": 92,
   "outputs": [
    {
     "name": "stdout",
     "output_type": "stream",
     "text": [
      "보그체로 변환하고 싶은 한국어 텍스트를 입력하시오\n",
      "맛있는 김치를 만들어 보았습니다.\n"
     ]
    }
   ],
   "source": [
    "print(\"보그체로 변환하고 싶은 한국어 텍스트를 입력하시오\")\n",
    "Korean_Text_b = \"맛있는 김치를 만들어 보았습니다.\"\n",
    "print(Korean_Text_b)"
   ],
   "metadata": {
    "collapsed": false,
    "pycharm": {
     "name": "#%%\n"
    }
   }
  },
  {
   "cell_type": "code",
   "execution_count": 93,
   "outputs": [
    {
     "data": {
      "text/plain": "['맛있는', '김치를', '만들어', '보았습니다.']"
     },
     "execution_count": 93,
     "metadata": {},
     "output_type": "execute_result"
    }
   ],
   "source": [
    "Korean_Text = Korean_Text_b.split(sep=' ')\n",
    "Korean_Text"
   ],
   "metadata": {
    "collapsed": false,
    "pycharm": {
     "name": "#%%\n"
    }
   }
  },
  {
   "cell_type": "code",
   "execution_count": 94,
   "outputs": [],
   "source": [
    "Toknize_Okt = konlpy.tag.Okt()\n",
    "Toknize_Hannanum = konlpy.tag.Hannanum()\n",
    "Toknize_Kkma = konlpy.tag.Kkma()\n",
    "\n",
    "Toknized_Korean_Okt = []\n",
    "Toknized_Korean_Hannanum = []\n",
    "Toknized_Korean_Kkma = []\n",
    "\n",
    "\n",
    "for i in range(len(Korean_Text)):\n",
    "    Toknized_Korean_Okt.append(Toknize_Okt.pos(Korean_Text[i]))\n",
    "    Toknized_Korean_Hannanum.append(Toknize_Hannanum.pos(Korean_Text[i]))\n",
    "    Toknized_Korean_Kkma.append(Toknize_Kkma.pos(Korean_Text[i]))\n",
    "\n",
    "    for j in range(len(Toknized_Korean_Okt[i])):\n",
    "        Toknized_Korean_Okt[i][j] = list(Toknized_Korean_Okt[i][j])\n",
    "\n",
    "    for j in range(len(Toknized_Korean_Hannanum[i])):\n",
    "        Toknized_Korean_Hannanum[i][j] = list(Toknized_Korean_Hannanum[i][j])\n",
    "\n",
    "    for j in range(len(Toknized_Korean_Kkma[i])):\n",
    "        Toknized_Korean_Kkma[i][j] = list(Toknized_Korean_Kkma[i][j])\n"
   ],
   "metadata": {
    "collapsed": false,
    "pycharm": {
     "name": "#%%\n"
    }
   }
  },
  {
   "cell_type": "code",
   "execution_count": 95,
   "outputs": [
    {
     "data": {
      "text/plain": "[[['맛있는', 'Adjective']],\n [['김치', 'Noun'], ['를', 'Josa']],\n [['만들어', 'Verb']],\n [['보았습니다', 'Verb'], ['.', 'Punctuation']]]"
     },
     "execution_count": 95,
     "metadata": {},
     "output_type": "execute_result"
    }
   ],
   "source": [
    "Toknized_Korean_Okt"
   ],
   "metadata": {
    "collapsed": false,
    "pycharm": {
     "name": "#%%\n"
    }
   }
  },
  {
   "cell_type": "code",
   "execution_count": 96,
   "outputs": [
    {
     "data": {
      "text/plain": "[[['맛있', 'P'], ['는', 'E']],\n [['김치', 'N'], ['를', 'J']],\n [['만들', 'P'], ['어', 'E']],\n [['보', 'P'], ['아ㅂ니다', 'E'], ['.', 'S']]]"
     },
     "execution_count": 96,
     "metadata": {},
     "output_type": "execute_result"
    }
   ],
   "source": [
    "Toknized_Korean_Hannanum"
   ],
   "metadata": {
    "collapsed": false,
    "pycharm": {
     "name": "#%%\n"
    }
   }
  },
  {
   "cell_type": "code",
   "execution_count": 97,
   "outputs": [
    {
     "data": {
      "text/plain": "[[['맛있', 'VA'], ['는', 'ETD']],\n [['김치', 'NNG'], ['를', 'JKO']],\n [['만들', 'VV'], ['어', 'ECD']],\n [['보', 'VV'], ['았', 'EPT'], ['습니다', 'EFN'], ['.', 'SF']]]"
     },
     "execution_count": 97,
     "metadata": {},
     "output_type": "execute_result"
    }
   ],
   "source": [
    "Toknized_Korean_Kkma"
   ],
   "metadata": {
    "collapsed": false,
    "pycharm": {
     "name": "#%%\n"
    }
   }
  },
  {
   "cell_type": "code",
   "execution_count": 98,
   "outputs": [],
   "source": [
    "def ends_with_jongsung(letter): # 받침 유무 확인하기 받침이 있으면 True, 없으면 False 반환\n",
    "    m = re.search(r\"[가-힣|ㄴ]?\", letter)\n",
    "    if m:\n",
    "        n = m.group()[-1]\n",
    "        return (ord(n)-ord(\"가\")) % 28 > 0 # 나머지가 있으면 받침 있음. 반환값 생김.\n",
    "    else:\n",
    "        return None"
   ],
   "metadata": {
    "collapsed": false,
    "pycharm": {
     "name": "#%%\n"
    }
   }
  },
  {
   "cell_type": "code",
   "execution_count": 99,
   "outputs": [
    {
     "data": {
      "text/plain": "True"
     },
     "execution_count": 99,
     "metadata": {},
     "output_type": "execute_result"
    }
   ],
   "source": [
    "ends_with_jongsung(\"ㄴ\")"
   ],
   "metadata": {
    "collapsed": false,
    "pycharm": {
     "name": "#%%\n"
    }
   }
  },
  {
   "cell_type": "code",
   "execution_count": 100,
   "outputs": [],
   "source": [
    "def josa_change(letter, letter2): # 주격 조사 알맞게 change\n",
    "    if letter2 == \"을\" or letter2 == \"를\":\n",
    "        josa = \"을\" if ends_with_jongsung(letter) else \"를\" # 앞에 받침 있는 경우, 뒤에는 받침이 없는 경우\n",
    "    elif letter2 == \"이\" or letter2 == \"가\":\n",
    "        josa = \"이\" if ends_with_jongsung(letter) else \"가\"\n",
    "    elif letter2 == \"과\" or letter2 == \"와\":\n",
    "        josa = \"과\" if ends_with_jongsung(letter) else \"와\"\n",
    "    elif letter2 == \"은\" or letter2 == \"는\":\n",
    "        josa = \"은\" if ends_with_jongsung(letter) else \"는\"\n",
    "\n",
    "    return josa"
   ],
   "metadata": {
    "collapsed": false,
    "pycharm": {
     "name": "#%%\n"
    }
   }
  },
  {
   "cell_type": "code",
   "execution_count": 101,
   "outputs": [],
   "source": [
    "def guanhyeongsa_eomi_change(letter, letter2): # 관형사 어미 알맞게 change\n",
    "    '''\n",
    "    if letter2 == \"ㅇ\"\n",
    "    guanhyeonsa_eomi = \"하는\" if ends_with_jongsung(letter) else \"는\" # 받침 있고, 받침 없고\n",
    "    guanhyeonsa_eomi = \"한\"  if ends_with_jongsung(letter) else \"\"\n",
    "\n",
    "    return guanhyeonsa_eomi\n",
    "    '''\n",
    "    pass"
   ],
   "metadata": {
    "collapsed": false,
    "pycharm": {
     "name": "#%%\n"
    }
   }
  },
  {
   "cell_type": "code",
   "execution_count": 102,
   "outputs": [
    {
     "name": "stdout",
     "output_type": "stream",
     "text": [
      "번역 가능한 품사 단어 : 맛있\n",
      "이트셀리시아우스\n",
      "번역 불가능한 품사 단어 : 는\n",
      "번역 가능한 품사 단어 : 김치\n",
      "김치\n",
      "번역 불가능한 품사 단어 : 를\n",
      "번역 가능한 품사 단어 : 만들\n",
      "일\n",
      "번역 불가능한 품사 단어 : 어\n",
      "번역 가능한 품사 단어 : 보\n",
      "스텝\n",
      "번역 불가능한 품사 단어 : 았\n",
      "번역 불가능한 품사 단어 : 습니다\n",
      "이트셀리시아우스는 김치를 일어 스텝았습니다 \n",
      "맛있는 김치를 만들어 보았습니다.\n"
     ]
    }
   ],
   "source": [
    "valid_grammer_Okt = ['Noun', 'Verb', 'Adjective', 'Determiner', 'Adverb', 'Conjunction', 'Exclamation']\n",
    "valid_grammer_Hannanum = ['N', 'P', 'M', 'I']\n",
    "valid_grammer_Kkma = ['NNP', 'NNG', 'NNB', 'NNBC', 'NR', 'NP', 'VV', 'VA', 'VXV', 'VXA', 'VCP', 'VCP', 'VCN', 'MDN', 'MDT', 'MAG', 'MAC', 'IC']\n",
    "non_valid_grammer_eomi_Kkma = ['EFN', 'EFQ', 'EFO', 'EFA', 'EFI', 'EFR']\n",
    "\n",
    "\n",
    "stopwords =['있']\n",
    "\n",
    "\n",
    "client_id = \"DItIw9wyPPPRDPx4Hy46\"\n",
    "client_secret = \"L6ZEleX9Mp\"\n",
    "url = \"https://openapi.naver.com/v1/papago/n2mt\"\n",
    "url2 = \"https://transliterator.herokuapp.com/\"\n",
    "sess = requests.Session()\n",
    "\n",
    "vogulized_sentence = ''\n",
    "\n",
    "for word in range(len(Toknized_Korean_Hannanum)):\n",
    "    for w_divided in range(len(Toknized_Korean_Hannanum[word])):\n",
    "            if Toknized_Korean_Hannanum[word][w_divided][1] in valid_grammer_Hannanum and Toknized_Korean_Hannanum[word][w_divided][0] not in stopwords:\n",
    "                print(\"번역 가능한 품사 단어 : \" + Toknized_Korean_Hannanum[word][w_divided][0])\n",
    "                Toknized_Text_English = urllib.parse.quote(Toknized_Korean_Hannanum[word][w_divided][0])\n",
    "                data = \"source=ko&target=en&text=\" + Toknized_Text_English\n",
    "                request = urllib.request.Request(url)\n",
    "                request.add_header(\"X-Naver-Client-Id\", client_id)\n",
    "                request.add_header(\"X-Naver-Client-Secret\", client_secret)\n",
    "                response = urllib.request.urlopen(request, data=data.encode(\"utf-8\"))\n",
    "                rescode = response.getcode()\n",
    "\n",
    "                if rescode==200:\n",
    "                    response_body = response.read()\n",
    "                    json_word = json.loads(response_body.decode(\"utf-8\"))\n",
    "                    result = json_word['message']['result']['translatedText']\n",
    "                    payload = {'input': result}\n",
    "                    res = sess.post(url2, data=payload)\n",
    "                    konglish = res.json()['output'].replace('?','')\n",
    "                    Toknized_Korean_Kkma[word][w_divided][0] = konglish\n",
    "                    print(konglish)\n",
    "                    vogulized_sentence += konglish\n",
    "\n",
    "                else:\n",
    "                    print(\"Error\")\n",
    "\n",
    "            else:\n",
    "                print(\"번역 불가능한 품사 단어 : \" + Toknized_Korean_Kkma[word][w_divided][0])\n",
    "                if Toknized_Korean_Kkma[word][w_divided][1] == 'JKS':\n",
    "                    Toknized_Korean_Kkma[word][w_divided][0] = josa_change(Toknized_Korean_Kkma[word][w_divided-1][0][-1], Toknized_Korean_Kkma[word][w_divided][0])\n",
    "\n",
    "                if Toknized_Korean_Kkma[word][w_divided][1] == 'ETD' or Toknized_Korean_Kkma[word][w_divided][1] =='EFN':\n",
    "                    if Toknized_Korean_Kkma[word][w_divided][0] == \"ㄴ\":\n",
    "                        Toknized_Korean_Kkma[word][w_divided][0] == \"한\"\n",
    "                    elif Toknized_Korean_Kkma[word][w_divided][0] == \"ㄴ다\":\n",
    "                        Toknized_Korean_Kkma[word][w_divided][0] == \"한다\"\n",
    "\n",
    "\n",
    "\n",
    "                vogulized_sentence += str(Toknized_Korean_Kkma[word][w_divided][0])\n",
    "\n",
    "    vogulized_sentence += ' '\n",
    "\n",
    "\n",
    "print(vogulized_sentence)\n",
    "print(Korean_Text_b)"
   ],
   "metadata": {
    "collapsed": false,
    "pycharm": {
     "name": "#%%\n"
    }
   }
  },
  {
   "cell_type": "code",
   "execution_count": 103,
   "outputs": [
    {
     "data": {
      "text/plain": "[[['이트셀리시아우스', 'VA'], ['는', 'ETD']],\n [['김치', 'NNG'], ['를', 'JKO']],\n [['일', 'VV'], ['어', 'ECD']],\n [['스텝', 'VV'], ['았', 'EPT'], ['습니다', 'EFN'], ['.', 'SF']]]"
     },
     "execution_count": 103,
     "metadata": {},
     "output_type": "execute_result"
    }
   ],
   "source": [
    "Toknized_Korean_Kkma # 앞에 받침 있으면 하려, 없으면 려"
   ],
   "metadata": {
    "collapsed": false,
    "pycharm": {
     "name": "#%%\n"
    }
   }
  },
  {
   "cell_type": "code",
   "execution_count": 104,
   "outputs": [
    {
     "name": "stdout",
     "output_type": "stream",
     "text": [
      "I made a delicious kimchi.\n"
     ]
    }
   ],
   "source": [
    "translator = Translator(service_urls=[\n",
    "      'translate.google.co.kr',\n",
    "    ])\n",
    "result = translator.translate(Korean_Text_b, src='ko', dest='en')\n",
    "print(result.text)"
   ],
   "metadata": {
    "collapsed": false,
    "pycharm": {
     "name": "#%%\n"
    }
   }
  },
  {
   "cell_type": "code",
   "execution_count": 105,
   "outputs": [
    {
     "data": {
      "text/plain": "'맛있는 김치를 만들어 보았습니다.'"
     },
     "execution_count": 105,
     "metadata": {},
     "output_type": "execute_result"
    }
   ],
   "source": [
    "Korean_Text_b"
   ],
   "metadata": {
    "collapsed": false,
    "pycharm": {
     "name": "#%%\n"
    }
   }
  },
  {
   "cell_type": "code",
   "execution_count": 106,
   "outputs": [
    {
     "name": "stdout",
     "output_type": "stream",
     "text": [
      "번역 가능한 품사 단어 : 맛있\n",
      "딜리셔스\n",
      "번역 불가능한 품사 단어 : 는\n",
      "번역 가능한 품사 단어 : 김치\n",
      "김치\n",
      "번역 불가능한 품사 단어 : 를\n",
      "번역 가능한 품사 단어 : 만들\n",
      "메이크\n",
      "번역 불가능한 품사 단어 : 어\n",
      "번역 가능한 품사 단어 : 보\n",
      "페이퍼\n",
      "번역 불가능한 품사 단어 : 았\n",
      "번역 불가능한 품사 단어 : 습니다\n",
      "딜리셔스는 김치를 메이크어 페이퍼았습니다 \n",
      "맛있는 김치를 만들어 보았습니다.\n"
     ]
    }
   ],
   "source": [
    "valid_grammer_Okt = ['Noun', 'Verb', 'Adjective', 'Determiner', 'Adverb', 'Conjunction', 'Exclamation']\n",
    "valid_grammer_Hannanum = ['N', 'P', 'M', 'I']\n",
    "valid_grammer_Kkma = ['NNP', 'NNG', 'NNB', 'NNBC', 'NR', 'NP', 'VV', 'VA', 'VXV', 'VXA', 'VCP', 'VCP', 'VCN', 'MDN', 'MDT', 'MAG', 'MAC', 'IC']\n",
    "non_valid_grammer_eomi_Kkma = ['EFN', 'EFQ', 'EFO', 'EFA', 'EFI', 'EFR']\n",
    "\n",
    "\n",
    "stopwords =['있']\n",
    "\n",
    "\n",
    "translator = Translator(service_urls=['translate.google.co.kr'])\n",
    "url2 = \"https://transliterator.herokuapp.com/\"\n",
    "sess = requests.Session()\n",
    "vogulized_sentence = ''\n",
    "\n",
    "for word in range(len(Toknized_Korean_Hannanum)):\n",
    "    for w_divided in range(len(Toknized_Korean_Hannanum[word])):\n",
    "            if Toknized_Korean_Hannanum[word][w_divided][1] in valid_grammer_Hannanum and Toknized_Korean_Hannanum[word][w_divided][0] not in stopwords:\n",
    "                print(\"번역 가능한 품사 단어 : \" + Toknized_Korean_Hannanum[word][w_divided][0])\n",
    "\n",
    "                konglish = translator.translate(Toknized_Korean_Hannanum[word][w_divided][0], src='ko', dest='en').text\n",
    "                payload = {'input': konglish}\n",
    "                res = sess.post(url2, data=payload)\n",
    "                konglish = res.json()['output'].replace('?','')\n",
    "                Toknized_Korean_Kkma[word][w_divided][0] = konglish\n",
    "                print(konglish)\n",
    "\n",
    "                vogulized_sentence += konglish\n",
    "\n",
    "            else:\n",
    "                print(\"번역 불가능한 품사 단어 : \" + Toknized_Korean_Kkma[word][w_divided][0])\n",
    "                if Toknized_Korean_Kkma[word][w_divided][1] == 'JKS':\n",
    "                    Toknized_Korean_Kkma[word][w_divided][0] = josa_change(Toknized_Korean_Kkma[word][w_divided-1][0][-1], Toknized_Korean_Kkma[word][w_divided][0])\n",
    "\n",
    "                if Toknized_Korean_Kkma[word][w_divided][1] == 'ETD' or Toknized_Korean_Kkma[word][w_divided][1] =='EFN':\n",
    "                    if Toknized_Korean_Kkma[word][w_divided][0] == \"ㄴ\":\n",
    "                        Toknized_Korean_Kkma[word][w_divided][0] == \"한\"\n",
    "                    elif Toknized_Korean_Kkma[word][w_divided][0] == \"ㄴ다\":\n",
    "                        Toknized_Korean_Kkma[word][w_divided][0] == \"한다\"\n",
    "\n",
    "\n",
    "\n",
    "                vogulized_sentence += str(Toknized_Korean_Kkma[word][w_divided][0])\n",
    "\n",
    "    vogulized_sentence += ' '\n",
    "\n",
    "\n",
    "print(vogulized_sentence)\n",
    "print(Korean_Text_b)"
   ],
   "metadata": {
    "collapsed": false,
    "pycharm": {
     "name": "#%%\n"
    }
   }
  }
 ],
 "metadata": {
  "kernelspec": {
   "display_name": "Python 3",
   "language": "python",
   "name": "python3"
  },
  "language_info": {
   "codemirror_mode": {
    "name": "ipython",
    "version": 2
   },
   "file_extension": ".py",
   "mimetype": "text/x-python",
   "name": "python",
   "nbconvert_exporter": "python",
   "pygments_lexer": "ipython2",
   "version": "2.7.6"
  }
 },
 "nbformat": 4,
 "nbformat_minor": 0
}