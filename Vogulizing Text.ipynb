{
 "cells": [
  {
   "cell_type": "code",
   "execution_count": 17,
   "outputs": [],
   "source": [
    "import konlpy\n",
    "import json\n",
    "import urllib.request\n",
    "import requests"
   ],
   "metadata": {
    "collapsed": false,
    "pycharm": {
     "name": "#%%\n"
    }
   }
  },
  {
   "cell_type": "code",
   "execution_count": 8,
   "outputs": [
    {
     "name": "stdout",
     "output_type": "stream",
     "text": [
      "보그체로 변환하고 싶은 한국어 텍스트를 입력하시오\n",
      "재빠른 여우가 게으른 개 위로 뛰어 넘고 있다.\n"
     ]
    }
   ],
   "source": [
    "print(\"보그체로 변환하고 싶은 한국어 텍스트를 입력하시오\")\n",
    "Korean_Text = \"재빠른 여우가 게으른 개 위로 뛰어 넘고 있다.\"\n",
    "print(Korean_Text)"
   ],
   "metadata": {
    "collapsed": false,
    "pycharm": {
     "name": "#%%\n"
    }
   }
  },
  {
   "cell_type": "code",
   "execution_count": 9,
   "outputs": [
    {
     "data": {
      "text/plain": "[('재빠르', 'P'),\n ('ㄴ', 'E'),\n ('여우', 'N'),\n ('가', 'J'),\n ('게으르', 'P'),\n ('ㄴ', 'E'),\n ('개', 'N'),\n ('위', 'N'),\n ('로', 'J'),\n ('뛰', 'P'),\n ('어', 'E'),\n ('넘', 'P'),\n ('고', 'E'),\n ('있', 'P'),\n ('다', 'E'),\n ('.', 'S')]"
     },
     "execution_count": 9,
     "metadata": {},
     "output_type": "execute_result"
    }
   ],
   "source": [
    "Toknize_Okt = konlpy.tag.Okt()\n",
    "Toknize_Hannanum = konlpy.tag.Hannanum()\n",
    "\n",
    "Toknized_Korean_Okt = Toknize_Okt.pos(Korean_Text)\n",
    "Toknized_Korean_Hannanum = Toknize_Hannanum.pos(Korean_Text)\n",
    "\n",
    "Toknized_Korean_Hannanum"
   ],
   "metadata": {
    "collapsed": false,
    "pycharm": {
     "name": "#%%\n"
    }
   }
  },
  {
   "cell_type": "code",
   "execution_count": 10,
   "outputs": [
    {
     "data": {
      "text/plain": "[('재빠른', 'Adjective'),\n ('여우', 'Noun'),\n ('가', 'Josa'),\n ('게으른', 'Adjective'),\n ('개', 'Noun'),\n ('위로', 'Noun'),\n ('뛰어', 'Verb'),\n ('넘고', 'Verb'),\n ('있다', 'Adjective'),\n ('.', 'Punctuation')]"
     },
     "execution_count": 10,
     "metadata": {},
     "output_type": "execute_result"
    }
   ],
   "source": [
    "Toknized_Korean_Okt"
   ],
   "metadata": {
    "collapsed": false,
    "pycharm": {
     "name": "#%%\n"
    }
   }
  },
  {
   "cell_type": "code",
   "execution_count": 11,
   "outputs": [
    {
     "data": {
      "text/plain": "'재빠르'"
     },
     "execution_count": 11,
     "metadata": {},
     "output_type": "execute_result"
    }
   ],
   "source": [
    "Toknized_Korean_Hannanum[0][0]"
   ],
   "metadata": {
    "collapsed": false,
    "pycharm": {
     "name": "#%%\n"
    }
   }
  },
  {
   "cell_type": "code",
   "execution_count": 15,
   "outputs": [
    {
     "name": "stdout",
     "output_type": "stream",
     "text": [
      "번역 가능한 품사 단어 : 재빠르\n",
      "quick-witted\n",
      "번역 불가능한 품사 단어 : ㄴ\n",
      "번역 가능한 품사 단어 : 여우\n",
      "Fox\n",
      "번역 불가능한 품사 단어 : 가\n",
      "번역 가능한 품사 단어 : 게으르\n",
      "Lazy\n",
      "번역 불가능한 품사 단어 : ㄴ\n",
      "번역 가능한 품사 단어 : 개\n",
      "Dog\n",
      "번역 가능한 품사 단어 : 위\n",
      "Above\n",
      "번역 불가능한 품사 단어 : 로\n",
      "번역 가능한 품사 단어 : 뛰\n",
      "Run!\n",
      "번역 불가능한 품사 단어 : 어\n",
      "번역 가능한 품사 단어 : 넘\n",
      "Over\n",
      "번역 불가능한 품사 단어 : 고\n",
      "번역 가능한 품사 단어 : 있\n",
      "Yes\n",
      "번역 불가능한 품사 단어 : 다\n",
      "번역 불가능한 품사 단어 : .\n"
     ]
    }
   ],
   "source": [
    "valid_grammer_Okt = ['Noun', 'Verb', 'Adjective', 'Determiner', 'Adverb', 'Conjunction', 'Exclamation']\n",
    "valid_grammer_Hannanum = ['N', 'P', 'M', 'I']\n",
    "stopwords =['있']\n",
    "client_id = \"DItIw9wyPPPRDPx4Hy46\"\n",
    "client_secret = \"L6ZEleX9Mp\"\n",
    "url = \"https://openapi.naver.com/v1/papago/n2mt\"\n",
    "\n",
    "\n",
    "for word in range(len(Toknized_Korean_Hannanum)):\n",
    "    if ((Toknized_Korean_Hannanum[word][1] in valid_grammer_Hannanum) and (Toknized_Korean_Hannanum[word][1] not in stopwords)):\n",
    "        print(\"번역 가능한 품사 단어 : \" + Toknized_Korean_Hannanum[word][0])\n",
    "        Toknized_Text_English = urllib.parse.quote(Toknized_Korean_Hannanum[word][0])\n",
    "        data = \"source=ko&target=en&text=\" + Toknized_Text_English\n",
    "        request = urllib.request.Request(url)\n",
    "        request.add_header(\"X-Naver-Client-Id\", client_id)\n",
    "        request.add_header(\"X-Naver-Client-Secret\", client_secret)\n",
    "        response = urllib.request.urlopen(request, data=data.encode(\"utf-8\"))\n",
    "        rescode = response.getcode()\n",
    "\n",
    "        if rescode==200:\n",
    "            response_body = response.read()\n",
    "            json_word = json.loads(response_body.decode(\"utf-8\"))\n",
    "            result = json_word['message']['result']['translatedText']\n",
    "            print(result)\n",
    "        else:\n",
    "            print(\"Error\")\n",
    "\n",
    "    else:\n",
    "        print(\"번역 불가능한 품사 단어 : \" + Toknized_Korean_Hannanum[word][0])"
   ],
   "metadata": {
    "collapsed": false,
    "pycharm": {
     "name": "#%%\n"
    }
   }
  },
  {
   "cell_type": "code",
   "execution_count": 16,
   "outputs": [
    {
     "data": {
      "text/plain": "{'message': {'result': {'srcLangType': 'ko',\n   'tarLangType': 'en',\n   'translatedText': 'Yes',\n   'engineType': 'N2MT',\n   'pivot': None,\n   'dict': None,\n   'tarDict': None},\n  '@type': 'response',\n  '@service': 'naverservice.nmt.proxy',\n  '@version': '1.0.0'}}"
     },
     "execution_count": 16,
     "metadata": {},
     "output_type": "execute_result"
    }
   ],
   "source": [
    "json_word"
   ],
   "metadata": {
    "collapsed": false,
    "pycharm": {
     "name": "#%%\n"
    }
   }
  },
  {
   "cell_type": "code",
   "execution_count": 21,
   "outputs": [
    {
     "name": "stdout",
     "output_type": "stream",
     "text": [
      "번역 가능한 품사 단어 : 재빠르\n",
      "퀵와이트\n",
      "번역 불가능한 품사 단어 : ㄴ\n",
      "번역 가능한 품사 단어 : 여우\n",
      "폭스\n",
      "번역 불가능한 품사 단어 : 가\n",
      "번역 가능한 품사 단어 : 게으르\n",
      "레이지\n",
      "번역 불가능한 품사 단어 : ㄴ\n",
      "번역 가능한 품사 단어 : 개\n",
      "도그\n",
      "번역 가능한 품사 단어 : 위\n",
      "어보브\n",
      "번역 불가능한 품사 단어 : 로\n",
      "번역 가능한 품사 단어 : 뛰\n",
      "런\n",
      "번역 불가능한 품사 단어 : 어\n",
      "번역 가능한 품사 단어 : 넘\n",
      "오버\n",
      "번역 불가능한 품사 단어 : 고\n",
      "번역 가능한 품사 단어 : 있\n",
      "예스\n",
      "번역 불가능한 품사 단어 : 다\n",
      "번역 불가능한 품사 단어 : .\n",
      "퀵와이트 ㄴ 폭스 가 레이지 ㄴ 도그 어보브 로 런 어 오버 고 예스 다 . \n",
      "재빠른 여우가 게으른 개 위로 뛰어 넘고 있다.\n"
     ]
    }
   ],
   "source": [
    "valid_grammer_Okt = ['Noun', 'Verb', 'Adjective', 'Determiner', 'Adverb', 'Conjunction', 'Exclamation']\n",
    "valid_grammer_Hannanum = ['N', 'P', 'M', 'I']\n",
    "stopwords =['있']\n",
    "client_id = \"DItIw9wyPPPRDPx4Hy46\"\n",
    "client_secret = \"L6ZEleX9Mp\"\n",
    "url = \"https://openapi.naver.com/v1/papago/n2mt\"\n",
    "url2 = \"https://transliterator.herokuapp.com/\"\n",
    "sess = requests.Session()\n",
    "voglized_sentence = ''\n",
    "\n",
    "for word in range(len(Toknized_Korean_Hannanum)):\n",
    "    if ((Toknized_Korean_Hannanum[word][1] in valid_grammer_Hannanum) and (Toknized_Korean_Hannanum[word][1] not in stopwords)):\n",
    "        print(\"번역 가능한 품사 단어 : \" + Toknized_Korean_Hannanum[word][0])\n",
    "        Toknized_Text_English = urllib.parse.quote(Toknized_Korean_Hannanum[word][0])\n",
    "        data = \"source=ko&target=en&text=\" + Toknized_Text_English\n",
    "        request = urllib.request.Request(url)\n",
    "        request.add_header(\"X-Naver-Client-Id\", client_id)\n",
    "        request.add_header(\"X-Naver-Client-Secret\", client_secret)\n",
    "        response = urllib.request.urlopen(request, data=data.encode(\"utf-8\"))\n",
    "        rescode = response.getcode()\n",
    "\n",
    "        if rescode==200:\n",
    "            response_body = response.read()\n",
    "            json_word = json.loads(response_body.decode(\"utf-8\"))\n",
    "            result = json_word['message']['result']['translatedText']\n",
    "            payload = {'input': result}\n",
    "            res = sess.post(url2, data=payload)\n",
    "            konglish = res.json()['output'].replace('?','')\n",
    "            print(konglish)\n",
    "            voglized_sentence += konglish + \" \"\n",
    "        else:\n",
    "            print(\"Error\")\n",
    "\n",
    "    else:\n",
    "        print(\"번역 불가능한 품사 단어 : \" + Toknized_Korean_Hannanum[word][0])\n",
    "        voglized_sentence += Toknized_Korean_Hannanum[word][0] + \" \"\n",
    "\n",
    "print(voglized_sentence)\n",
    "print(Korean_Text)"
   ],
   "metadata": {
    "collapsed": false,
    "pycharm": {
     "name": "#%%\n"
    }
   }
  },
  {
   "cell_type": "code",
   "execution_count": null,
   "outputs": [],
   "source": [],
   "metadata": {
    "collapsed": false,
    "pycharm": {
     "name": "#%%\n"
    }
   }
  }
 ],
 "metadata": {
  "kernelspec": {
   "display_name": "Python 3",
   "language": "python",
   "name": "python3"
  },
  "language_info": {
   "codemirror_mode": {
    "name": "ipython",
    "version": 2
   },
   "file_extension": ".py",
   "mimetype": "text/x-python",
   "name": "python",
   "nbconvert_exporter": "python",
   "pygments_lexer": "ipython2",
   "version": "2.7.6"
  }
 },
 "nbformat": 4,
 "nbformat_minor": 0
}