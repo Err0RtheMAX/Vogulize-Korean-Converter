{
 "cells": [
  {
   "cell_type": "code",
   "execution_count": 37,
   "outputs": [],
   "source": [
    "import konlpy\n",
    "import json\n",
    "import urllib.request\n",
    "import requests\n",
    "import re"
   ],
   "metadata": {
    "collapsed": false,
    "pycharm": {
     "name": "#%%\n"
    }
   }
  },
  {
   "cell_type": "code",
   "execution_count": 149,
   "outputs": [
    {
     "name": "stdout",
     "output_type": "stream",
     "text": [
      "보그체로 변환하고 싶은 한국어 텍스트를 입력하시오\n",
      "닭 콩팥 훔친 집사가 남의 집 닭까지 훔치려 한다.\n"
     ]
    }
   ],
   "source": [
    "print(\"보그체로 변환하고 싶은 한국어 텍스트를 입력하시오\")\n",
    "Korean_Text_b = \"닭 콩팥 훔친 집사가 남의 집 닭까지 훔치려 한다.\"\n",
    "print(Korean_Text_b)"
   ],
   "metadata": {
    "collapsed": false,
    "pycharm": {
     "name": "#%%\n"
    }
   }
  },
  {
   "cell_type": "code",
   "execution_count": 150,
   "outputs": [
    {
     "data": {
      "text/plain": "['닭', '콩팥', '훔친', '집사가', '남의', '집', '닭까지', '훔치려', '한다.']"
     },
     "execution_count": 150,
     "metadata": {},
     "output_type": "execute_result"
    }
   ],
   "source": [
    "Korean_Text = Korean_Text_b.split(sep=' ')\n",
    "Korean_Text"
   ],
   "metadata": {
    "collapsed": false,
    "pycharm": {
     "name": "#%%\n"
    }
   }
  },
  {
   "cell_type": "code",
   "execution_count": 151,
   "outputs": [],
   "source": [
    "Toknize_Okt = konlpy.tag.Okt()\n",
    "Toknize_Hannanum = konlpy.tag.Hannanum()\n",
    "Toknized_Korean_Okt = []\n",
    "Toknized_Korean_Hannanum = []\n",
    "\n",
    "\n",
    "for i in range(len(Korean_Text)):\n",
    "    Toknized_Korean_Okt.append(Toknize_Okt.pos(Korean_Text[i]))\n",
    "    Toknized_Korean_Hannanum.append(Toknize_Hannanum.pos(Korean_Text[i]))\n",
    "\n",
    "    for j in range(len(Toknized_Korean_Okt[i])):\n",
    "        Toknized_Korean_Okt[i][j] = list(Toknized_Korean_Okt[i][j])\n",
    "\n",
    "    for j in range(len(Toknized_Korean_Hannanum[i])):\n",
    "        Toknized_Korean_Hannanum[i][j] = list(Toknized_Korean_Hannanum[i][j])\n"
   ],
   "metadata": {
    "collapsed": false,
    "pycharm": {
     "name": "#%%\n"
    }
   }
  },
  {
   "cell_type": "code",
   "execution_count": 152,
   "outputs": [
    {
     "data": {
      "text/plain": "[[['닭', 'Noun']],\n [['콩팥', 'Noun']],\n [['훔친', 'Verb']],\n [['집사', 'Noun'], ['가', 'Josa']],\n [['남', 'Noun'], ['의', 'Josa']],\n [['집', 'Noun']],\n [['닭', 'Noun'], ['까지', 'Josa']],\n [['훔치려', 'Verb']],\n [['한다', 'Verb'], ['.', 'Punctuation']]]"
     },
     "execution_count": 152,
     "metadata": {},
     "output_type": "execute_result"
    }
   ],
   "source": [
    "Toknized_Korean_Okt"
   ],
   "metadata": {
    "collapsed": false,
    "pycharm": {
     "name": "#%%\n"
    }
   }
  },
  {
   "cell_type": "code",
   "execution_count": 153,
   "outputs": [
    {
     "data": {
      "text/plain": "[[['닭', 'N']],\n [['콩팥', 'N']],\n [['훔치', 'P'], ['ㄴ', 'E']],\n [['집사', 'N'], ['가', 'J']],\n [['남', 'N'], ['의', 'J']],\n [['집', 'N']],\n [['닭', 'N'], ['까지', 'J']],\n [['훔치', 'P'], ['려', 'E']],\n [['하', 'P'], ['ㄴ다', 'E'], ['.', 'S']]]"
     },
     "execution_count": 153,
     "metadata": {},
     "output_type": "execute_result"
    }
   ],
   "source": [
    "Toknized_Korean_Hannanum"
   ],
   "metadata": {
    "collapsed": false,
    "pycharm": {
     "name": "#%%\n"
    }
   }
  },
  {
   "cell_type": "code",
   "execution_count": 154,
   "outputs": [
    {
     "data": {
      "text/plain": "'닭'"
     },
     "execution_count": 154,
     "metadata": {},
     "output_type": "execute_result"
    }
   ],
   "source": [
    "Toknized_Korean_Hannanum[0][0][0]"
   ],
   "metadata": {
    "collapsed": false,
    "pycharm": {
     "name": "#%%\n"
    }
   }
  },
  {
   "cell_type": "code",
   "execution_count": 155,
   "outputs": [],
   "source": [
    "def ends_with_jongsung(josa):\n",
    "    m = re.search(r\"[가-힣]?[ㄴ]?\",josa)\n",
    "    if m:\n",
    "        n = m.group()[-1]\n",
    "        return (ord(n)-ord(\"가\")) % 28 > 0\n",
    "    else:\n",
    "        return None"
   ],
   "metadata": {
    "collapsed": false,
    "pycharm": {
     "name": "#%%\n"
    }
   }
  },
  {
   "cell_type": "code",
   "execution_count": 156,
   "outputs": [],
   "source": [
    "def josa_change():\n",
    "    pass"
   ],
   "metadata": {
    "collapsed": false,
    "pycharm": {
     "name": "#%%\n"
    }
   }
  },
  {
   "cell_type": "code",
   "execution_count": 157,
   "outputs": [
    {
     "data": {
      "text/plain": "'ㄴ'"
     },
     "execution_count": 157,
     "metadata": {},
     "output_type": "execute_result"
    }
   ],
   "source": [
    "m = re.search(r\"[가-힣]?[ㄴ]?\",'나ㄴ')\n",
    "m.group()[-1]"
   ],
   "metadata": {
    "collapsed": false,
    "pycharm": {
     "name": "#%%\n"
    }
   }
  },
  {
   "cell_type": "code",
   "execution_count": 158,
   "outputs": [
    {
     "name": "stdout",
     "output_type": "stream",
     "text": [
      "번역 가능한 품사 단어 : 닭\n",
      "치킨\n",
      "번역 가능한 품사 단어 : 콩팥\n",
      "키드니\n",
      "번역 가능한 품사 단어 : 훔치\n",
      "스틸링\n",
      "번역 불가능한 품사 단어 : ㄴ\n",
      "번역 가능한 품사 단어 : 집사\n",
      "디컨\n",
      "번역 불가능한 품사 단어 : 가\n",
      "번역 가능한 품사 단어 : 남\n",
      "아더스\n",
      "번역 불가능한 품사 단어 : 의\n",
      "번역 가능한 품사 단어 : 집\n",
      "홈\n",
      "번역 가능한 품사 단어 : 닭\n",
      "치킨\n",
      "번역 불가능한 품사 단어 : 까지\n",
      "번역 가능한 품사 단어 : 훔치\n",
      "스틸링\n",
      "번역 불가능한 품사 단어 : 려\n",
      "번역 가능한 품사 단어 : 하\n",
      "하\n",
      "번역 불가능한 품사 단어 : ㄴ다\n",
      "번역 불가능한 품사 단어 : .\n",
      "치킨 키드니 스틸링한 디컨가 아더스의 홈 치킨까지 스틸링하려 하하ㄴ다. \n",
      "닭 콩팥 훔친 집사가 남의 집 닭까지 훔치려 한다.\n"
     ]
    }
   ],
   "source": [
    "valid_grammer_Okt = ['Noun', 'Verb', 'Adjective', 'Determiner', 'Adverb', 'Conjunction', 'Exclamation']\n",
    "valid_grammer_Hannanum = ['N', 'P', 'M', 'I']\n",
    "\n",
    "\n",
    "stopwords =['있']\n",
    "\n",
    "\n",
    "client_id = \"DItIw9wyPPPRDPx4Hy46\"\n",
    "client_secret = \"L6ZEleX9Mp\"\n",
    "url = \"https://openapi.naver.com/v1/papago/n2mt\"\n",
    "url2 = \"https://transliterator.herokuapp.com/\"\n",
    "sess = requests.Session()\n",
    "\n",
    "vogulized_sentence = ''\n",
    "\n",
    "for word in range(len(Toknized_Korean_Hannanum)):\n",
    "    for w_divided in range(len(Toknized_Korean_Hannanum[word])):\n",
    "            if Toknized_Korean_Hannanum[word][w_divided][1] in valid_grammer_Hannanum and Toknized_Korean_Hannanum[word][w_divided][0] not in stopwords:\n",
    "                print(\"번역 가능한 품사 단어 : \" + Toknized_Korean_Hannanum[word][w_divided][0])\n",
    "                Toknized_Text_English = urllib.parse.quote(Toknized_Korean_Hannanum[word][w_divided][0])\n",
    "                data = \"source=ko&target=en&text=\" + Toknized_Text_English\n",
    "                request = urllib.request.Request(url)\n",
    "                request.add_header(\"X-Naver-Client-Id\", client_id)\n",
    "                request.add_header(\"X-Naver-Client-Secret\", client_secret)\n",
    "                response = urllib.request.urlopen(request, data=data.encode(\"utf-8\"))\n",
    "                rescode = response.getcode()\n",
    "\n",
    "                if rescode==200:\n",
    "                    response_body = response.read()\n",
    "                    json_word = json.loads(response_body.decode(\"utf-8\"))\n",
    "                    result = json_word['message']['result']['translatedText']\n",
    "                    payload = {'input': result}\n",
    "                    res = sess.post(url2, data=payload)\n",
    "                    konglish = res.json()['output'].replace('?','')\n",
    "                    print(konglish)\n",
    "                    vogulized_sentence += konglish\n",
    "\n",
    "                else:\n",
    "                    print(\"Error\")\n",
    "\n",
    "            else:\n",
    "                print(\"번역 불가능한 품사 단어 : \" + Toknized_Korean_Hannanum[word][w_divided][0])\n",
    "                if Toknized_Korean_Hannanum[word][w_divided][1] == 'E':\n",
    "                    if Toknized_Korean_Hannanum[word][w_divided][0] == 'ㄴ':\n",
    "                        Toknized_Korean_Hannanum[word][w_divided][0] = '한'\n",
    "                    elif Toknized_Korean_Hannanum[word][w_divided][0] == '어':\n",
    "                        Toknized_Korean_Hannanum[word][w_divided][0] = ''\n",
    "                    elif Toknized_Korean_Hannanum[word][w_divided][0] == '고' or '게':\n",
    "                        Toknized_Korean_Hannanum[word][w_divided][0] = '하' + Toknized_Korean_Hannanum[word][w_divided][0]\n",
    "\n",
    "                    josa_change()\n",
    "\n",
    "                vogulized_sentence += str(Toknized_Korean_Hannanum[word][w_divided][0])\n",
    "\n",
    "    vogulized_sentence += ' '\n",
    "\n",
    "print(vogulized_sentence)\n",
    "print(Korean_Text_b)"
   ],
   "metadata": {
    "collapsed": false,
    "pycharm": {
     "name": "#%%\n"
    }
   }
  },
  {
   "cell_type": "code",
   "execution_count": null,
   "outputs": [],
   "source": [],
   "metadata": {
    "collapsed": false,
    "pycharm": {
     "name": "#%%\n"
    }
   }
  }
 ],
 "metadata": {
  "kernelspec": {
   "display_name": "Python 3",
   "language": "python",
   "name": "python3"
  },
  "language_info": {
   "codemirror_mode": {
    "name": "ipython",
    "version": 2
   },
   "file_extension": ".py",
   "mimetype": "text/x-python",
   "name": "python",
   "nbconvert_exporter": "python",
   "pygments_lexer": "ipython2",
   "version": "2.7.6"
  }
 },
 "nbformat": 4,
 "nbformat_minor": 0
}