{
 "cells": [
  {
   "cell_type": "code",
   "execution_count": 96,
   "outputs": [],
   "source": [
    "import time\n",
    "import konlpy\n",
    "import json\n",
    "import urllib.request"
   ],
   "metadata": {
    "collapsed": false,
    "pycharm": {
     "name": "#%%\n"
    }
   }
  },
  {
   "cell_type": "code",
   "execution_count": 72,
   "outputs": [
    {
     "name": "stdout",
     "output_type": "stream",
     "text": [
      "보그체로 변환하고 싶은 한국어 텍스트를 입력하시오\n",
      "민첩한 여우가 게으른 개 위로 뛰어넘고 있다.\n"
     ]
    }
   ],
   "source": [
    "print(\"보그체로 변환하고 싶은 한국어 텍스트를 입력하시오\")\n",
    "Korean_Text = \"민첩한 여우가 게으른 개 위로 뛰어넘고 있다.\"\n",
    "print(Korean_Text)"
   ],
   "metadata": {
    "collapsed": false,
    "pycharm": {
     "name": "#%%\n"
    }
   }
  },
  {
   "cell_type": "code",
   "execution_count": 73,
   "outputs": [
    {
     "data": {
      "text/plain": "[('민첩', 'N'),\n ('하', 'X'),\n ('ㄴ', 'E'),\n ('여우', 'N'),\n ('가', 'J'),\n ('게으르', 'P'),\n ('ㄴ', 'E'),\n ('개', 'N'),\n ('위', 'N'),\n ('로', 'J'),\n ('뛰어넘', 'P'),\n ('고', 'E'),\n ('있', 'P'),\n ('다', 'E'),\n ('.', 'S')]"
     },
     "execution_count": 73,
     "metadata": {},
     "output_type": "execute_result"
    }
   ],
   "source": [
    "Toknize_Okt = konlpy.tag.Okt()\n",
    "Toknize_Hannanum = konlpy.tag.Hannanum()\n",
    "\n",
    "Toknized_Korean_Okt = Toknize_Okt.pos(Korean_Text)\n",
    "Toknized_Korean_Hannanum = Toknize_Hannanum.pos(Korean_Text)\n",
    "\n",
    "Toknized_Korean_Hannanum"
   ],
   "metadata": {
    "collapsed": false,
    "pycharm": {
     "name": "#%%\n"
    }
   }
  },
  {
   "cell_type": "code",
   "execution_count": 74,
   "outputs": [
    {
     "data": {
      "text/plain": "[('민첩한', 'Adjective'),\n ('여우', 'Noun'),\n ('가', 'Josa'),\n ('게으른', 'Adjective'),\n ('개', 'Noun'),\n ('위로', 'Noun'),\n ('뛰어넘고', 'Verb'),\n ('있다', 'Adjective'),\n ('.', 'Punctuation')]"
     },
     "execution_count": 74,
     "metadata": {},
     "output_type": "execute_result"
    }
   ],
   "source": [
    "Toknized_Korean_Okt"
   ],
   "metadata": {
    "collapsed": false,
    "pycharm": {
     "name": "#%%\n"
    }
   }
  },
  {
   "cell_type": "code",
   "execution_count": 75,
   "outputs": [
    {
     "data": {
      "text/plain": "'민첩'"
     },
     "execution_count": 75,
     "metadata": {},
     "output_type": "execute_result"
    }
   ],
   "source": [
    "Toknized_Korean_Hannanum[0][0]"
   ],
   "metadata": {
    "collapsed": false,
    "pycharm": {
     "name": "#%%\n"
    }
   }
  },
  {
   "cell_type": "code",
   "execution_count": 110,
   "outputs": [
    {
     "name": "stdout",
     "output_type": "stream",
     "text": [
      "번역 가능한 품사 단어 : 민첩한\n",
      "nimble\n",
      "번역 가능한 품사 단어 : 여우\n",
      "Fox\n",
      "번역 불가능한 품사 단어 : 가\n",
      "번역 가능한 품사 단어 : 게으른\n",
      "Lazy\n",
      "번역 가능한 품사 단어 : 개\n",
      "Dog\n",
      "번역 가능한 품사 단어 : 위로\n",
      "condolence\n",
      "번역 가능한 품사 단어 : 뛰어넘고\n",
      "Let's jump\n",
      "번역 가능한 품사 단어 : 있다\n",
      "There is\n",
      "번역 불가능한 품사 단어 : .\n"
     ]
    }
   ],
   "source": [
    "valid_grammer_Okt = ['Noun', 'Verb', 'Adjective', 'Determiner', 'Adverb', 'Conjunction', 'Exclamation']\n",
    "valid_grammer_Hannanum = ['N', 'P', 'M', 'I']\n",
    "stopwords =[]\n",
    "client_id = \"DItIw9wyPPPRDPx4Hy46\"\n",
    "client_secret = \"L6ZEleX9Mp\"\n",
    "url = \"https://openapi.naver.com/v1/papago/n2mt\"\n",
    "\n",
    "\n",
    "for word in range(len(Toknized_Korean_Okt)):\n",
    "    if Toknized_Korean_Okt[word][1] in valid_grammer_Okt:\n",
    "        print(\"번역 가능한 품사 단어 : \" + Toknized_Korean_Okt[word][0])\n",
    "        Toknized_Text_English = urllib.parse.quote(Toknized_Korean_Okt[word][0])\n",
    "        data = \"source=ko&target=en&text=\" + Toknized_Text_English\n",
    "        request = urllib.request.Request(url)\n",
    "        request.add_header(\"X-Naver-Client-Id\", client_id)\n",
    "        request.add_header(\"X-Naver-Client-Secret\", client_secret)\n",
    "        response = urllib.request.urlopen(request, data=data.encode(\"utf-8\"))\n",
    "        rescode = response.getcode()\n",
    "\n",
    "        if rescode==200:\n",
    "            response_body = response.read()\n",
    "            json_word = json.loads(response_body.decode(\"utf-8\"))\n",
    "            result = json_word['message']['result']['translatedText']\n",
    "            print(result)\n",
    "        else:\n",
    "            print(\"Error\")\n",
    "\n",
    "    else:\n",
    "        print(\"번역 불가능한 품사 단어 : \" + Toknized_Korean_Okt[word][0])"
   ],
   "metadata": {
    "collapsed": false,
    "pycharm": {
     "name": "#%%\n"
    }
   }
  }
 ],
 "metadata": {
  "kernelspec": {
   "display_name": "Python 3",
   "language": "python",
   "name": "python3"
  },
  "language_info": {
   "codemirror_mode": {
    "name": "ipython",
    "version": 2
   },
   "file_extension": ".py",
   "mimetype": "text/x-python",
   "name": "python",
   "nbconvert_exporter": "python",
   "pygments_lexer": "ipython2",
   "version": "2.7.6"
  }
 },
 "nbformat": 4,
 "nbformat_minor": 0
}