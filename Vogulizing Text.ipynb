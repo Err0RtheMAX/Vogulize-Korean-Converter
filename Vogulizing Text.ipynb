{
 "cells": [
  {
   "cell_type": "code",
   "execution_count": 177,
   "outputs": [],
   "source": [
    "import konlpy\n",
    "import json\n",
    "import urllib.request\n",
    "import requests\n",
    "import re\n",
    "from googletrans import Translator"
   ],
   "metadata": {
    "collapsed": false,
    "pycharm": {
     "name": "#%%\n"
    }
   }
  },
  {
   "cell_type": "code",
   "execution_count": 178,
   "outputs": [
    {
     "name": "stdout",
     "output_type": "stream",
     "text": [
      "보그체로 변환하고 싶은 문장을 입력하시오\n",
      "절대 어제를 후회하지 마라. 인생은 오늘의 내 안에 있고 내일은 스스로 만드는 것이다.\n"
     ]
    }
   ],
   "source": [
    "print(\"보그체로 변환하고 싶은 문장을 입력하시오\")\n",
    "Korean_Text_b = '절대 어제를 후회하지 마라. 인생은 오늘의 내 안에 있고 내일은 스스로 만드는 것이다.'\n",
    "print(Korean_Text_b)"
   ],
   "metadata": {
    "collapsed": false,
    "pycharm": {
     "name": "#%%\n"
    }
   }
  },
  {
   "cell_type": "code",
   "execution_count": 179,
   "outputs": [
    {
     "data": {
      "text/plain": "['절대',\n '어제를',\n '후회하지',\n '마라.',\n '인생은',\n '오늘의',\n '내',\n '안에',\n '있고',\n '내일은',\n '스스로',\n '만드는',\n '것이다.']"
     },
     "execution_count": 179,
     "metadata": {},
     "output_type": "execute_result"
    }
   ],
   "source": [
    "Korean_Text = Korean_Text_b.split(sep=' ')\n",
    "Korean_Text"
   ],
   "metadata": {
    "collapsed": false,
    "pycharm": {
     "name": "#%%\n"
    }
   }
  },
  {
   "cell_type": "code",
   "execution_count": 180,
   "outputs": [],
   "source": [
    "Toknize_Okt = konlpy.tag.Okt()\n",
    "Toknized_Korean_Okt = []\n",
    "\n",
    "\n",
    "for i in range(len(Korean_Text)):\n",
    "    Toknized_Korean_Okt.append(Toknize_Okt.pos(Korean_Text[i]))\n",
    "\n",
    "    for j in range(len(Toknized_Korean_Okt[i])):\n",
    "        Toknized_Korean_Okt[i][j] = list(Toknized_Korean_Okt[i][j])"
   ],
   "metadata": {
    "collapsed": false,
    "pycharm": {
     "name": "#%%\n"
    }
   }
  },
  {
   "cell_type": "code",
   "execution_count": 181,
   "outputs": [
    {
     "data": {
      "text/plain": "[[['절대', 'Noun']],\n [['어제', 'Noun'], ['를', 'Josa']],\n [['후회', 'Noun'], ['하지', 'Verb']],\n [['마라', 'Adjective'], ['.', 'Punctuation']],\n [['인생', 'Noun'], ['은', 'Josa']],\n [['오늘', 'Noun'], ['의', 'Josa']],\n [['내', 'Noun']],\n [['안', 'Noun'], ['에', 'Josa']],\n [['있고', 'Adjective']],\n [['내일', 'Noun'], ['은', 'Josa']],\n [['스스로', 'Noun']],\n [['만드는', 'Verb']],\n [['것', 'Noun'], ['이다', 'Josa'], ['.', 'Punctuation']]]"
     },
     "execution_count": 181,
     "metadata": {},
     "output_type": "execute_result"
    }
   ],
   "source": [
    "Toknized_Korean_Okt"
   ],
   "metadata": {
    "collapsed": false,
    "pycharm": {
     "name": "#%%\n"
    }
   }
  },
  {
   "cell_type": "code",
   "execution_count": 182,
   "outputs": [],
   "source": [
    "def ends_with_jongsung(letter): # 받침 유무 확인하기 받침이 있으면 True, 없으면 False 반환\n",
    "    m = re.search(r\"[가-힣|ㄴ]?\", letter)\n",
    "    if m:\n",
    "        n = m.group()[-1]\n",
    "        return (ord(n)-ord(\"가\")) % 28 > 0 # 나머지가 있으면 받침 있음. 반환값 생김.\n",
    "    else:\n",
    "        return None"
   ],
   "metadata": {
    "collapsed": false,
    "pycharm": {
     "name": "#%%\n"
    }
   }
  },
  {
   "cell_type": "code",
   "execution_count": 183,
   "outputs": [],
   "source": [
    "def josa_change(letter, letter2): # 주격 조사 알맞게 change\n",
    "    josa = ''\n",
    "    if letter2 == \"을\" or letter2 == \"를\":\n",
    "        josa = \"을\" if ends_with_jongsung(letter) else \"를\" # 앞에 받침 있는 경우, 뒤에는 받침이 없는 경우\n",
    "    elif letter2 == \"이\" or letter2 == \"가\":\n",
    "        josa = \"이\" if ends_with_jongsung(letter) else \"가\"\n",
    "    elif letter2 == \"과\" or letter2 == \"와\":\n",
    "        josa = \"과\" if ends_with_jongsung(letter) else \"와\"\n",
    "    elif letter2 == \"은\" or letter2 == \"는\":\n",
    "        josa = \"은\" if ends_with_jongsung(letter) else \"는\"\n",
    "\n",
    "    return josa"
   ],
   "metadata": {
    "collapsed": false,
    "pycharm": {
     "name": "#%%\n"
    }
   }
  },
  {
   "cell_type": "code",
   "execution_count": 206,
   "outputs": [],
   "source": [
    "## PaPago로 보그체 만들기\n",
    "def Papago_Vogulize(Toknized_Korean_Okt):\n",
    "    valid_grammer_Okt = ['Noun', 'Exlamation']\n",
    "    stopwords =['있']\n",
    "\n",
    "\n",
    "    client_id = \"DItIw9wyPPPRDPx4Hy46\"\n",
    "    client_secret = \"L6ZEleX9Mp\"\n",
    "    url = \"https://openapi.naver.com/v1/papago/n2mt\"\n",
    "    url2 = \"https://transliterator.herokuapp.com/\"\n",
    "    sess = requests.Session()\n",
    "\n",
    "    vogulized_sentence = ''\n",
    "\n",
    "\n",
    "    for word in range(len(Toknized_Korean_Okt)):\n",
    "        for w_divided in range(len(Toknized_Korean_Okt[word])):\n",
    "                if (Toknized_Korean_Okt[word][w_divided][1] in valid_grammer_Okt) and (len(Toknized_Korean_Okt[word][w_divided][0]) >= 1):\n",
    "                    # print(\"번역 가능한 품사 단어 : \" + Toknized_Korean_Okt[word][w_divided][0])\n",
    "                    Toknized_Text_English = urllib.parse.quote(Toknized_Korean_Okt[word][w_divided][0])\n",
    "                    data = \"source=ko&target=en&text=\" + Toknized_Text_English\n",
    "                    request = urllib.request.Request(url)\n",
    "                    request.add_header(\"X-Naver-Client-Id\", client_id)\n",
    "                    request.add_header(\"X-Naver-Client-Secret\", client_secret)\n",
    "                    response = urllib.request.urlopen(request, data=data.encode(\"utf-8\"))\n",
    "                    rescode = response.getcode()\n",
    "\n",
    "                    if rescode==200:\n",
    "                        response_body = response.read()\n",
    "                        json_word = json.loads(response_body.decode(\"utf-8\"))\n",
    "                        result = json_word['message']['result']['translatedText']\n",
    "                        Toknized_Korean_Okt[word][w_divided][0]\n",
    "\n",
    "                        payload = {'input': result}\n",
    "                        res = sess.post(url2, data=payload)\n",
    "                        konglish = res.json()['output'].replace('?','')\n",
    "                        Toknized_Korean_Okt[word][w_divided][0] = konglish\n",
    "                        # print(konglish)\n",
    "                        result = re.sub(r'\\.', '', result)\n",
    "                        konglish = str(konglish + '(' + result + ')')\n",
    "                        vogulized_sentence += konglish\n",
    "\n",
    "                    else:\n",
    "                        print(\"Error\")\n",
    "\n",
    "                else:\n",
    "                    # print(\"번역 불가능한 품사 단어 : \" + Toknized_Korean_Okt[word][w_divided][0])\n",
    "\n",
    "                    if Toknized_Korean_Okt[word][w_divided][1] == 'Josa' and Toknized_Korean_Okt[word][w_divided][0] in ['은', '는', '이', '가', '과', '와', '을', '를']:\n",
    "                        Toknized_Korean_Okt[word][w_divided][0] = josa_change(Toknized_Korean_Okt[word][w_divided-1][0][-1], Toknized_Korean_Okt[word][w_divided][0])\n",
    "\n",
    "                    vogulized_sentence += str(Toknized_Korean_Okt[word][w_divided][0])\n",
    "\n",
    "        vogulized_sentence += ' '\n",
    "\n",
    "    print(vogulized_sentence)\n",
    "    print(Korean_Text_b)"
   ],
   "metadata": {
    "collapsed": false,
    "pycharm": {
     "name": "#%%\n"
    }
   }
  },
  {
   "cell_type": "code",
   "execution_count": 207,
   "outputs": [],
   "source": [
    "\n",
    "def Google_Vogulize(Toknized_Korean_Okt):\n",
    "    valid_grammer_Okt = ['Noun', 'Exlamation']\n",
    "\n",
    "\n",
    "    stopwords =['있']\n",
    "\n",
    "\n",
    "    translator = Translator(service_urls=['translate.google.co.kr'])\n",
    "    url2 = \"https://transliterator.herokuapp.com/\"\n",
    "    sess = requests.Session()\n",
    "    vogulized_sentence = ''\n",
    "\n",
    "    for word in range(len(Toknized_Korean_Okt)):\n",
    "        for w_divided in range(len(Toknized_Korean_Okt[word])):\n",
    "                if Toknized_Korean_Okt[word][w_divided][1] in valid_grammer_Okt and Toknized_Korean_Okt[word][w_divided][0] not in stopwords:\n",
    "                    # print(\"번역 가능한 품사 단어 : \" + Toknized_Korean_Okt[word][w_divided][0])\n",
    "\n",
    "                    konglish = translator.translate(Toknized_Korean_Okt[word][w_divided][0], src='ko', dest='en').text\n",
    "                    result2 = konglish\n",
    "                    payload = {'input': konglish}\n",
    "                    res = sess.post(url2, data=payload)\n",
    "                    konglish = res.json()['output'].replace('?','')\n",
    "                    Toknized_Korean_Okt[word][w_divided][0] = konglish\n",
    "                    konglish = str(konglish + '(' + result2 + ')')\n",
    "                    # print(konglish)\n",
    "\n",
    "                    vogulized_sentence += konglish\n",
    "\n",
    "                else:\n",
    "                    # print(\"번역 불가능한 품사 단어 : \" + Toknized_Korean_Okt[word][w_divided][0])\n",
    "\n",
    "                    if Toknized_Korean_Okt[word][w_divided][1] == 'Josa' and Toknized_Korean_Okt[word][w_divided][0] in ['은', '는', '이', '가', '과', '와', '을', '를']:\n",
    "                        Toknized_Korean_Okt[word][w_divided][0] = josa_change(Toknized_Korean_Okt[word][w_divided-1][0][-1], Toknized_Korean_Okt[word][w_divided][0])\n",
    "\n",
    "                    vogulized_sentence += str(Toknized_Korean_Okt[word][w_divided][0])\n",
    "\n",
    "        vogulized_sentence += ' '\n",
    "\n",
    "\n",
    "    print(vogulized_sentence)\n",
    "    print(Korean_Text_b)"
   ],
   "metadata": {
    "collapsed": false,
    "pycharm": {
     "name": "#%%\n"
    }
   }
  },
  {
   "cell_type": "code",
   "execution_count": 211,
   "outputs": [
    {
     "name": "stdout",
     "output_type": "stream",
     "text": [
      "보그체로 변환하고 싶은 문장을 입력하시오\n",
      "네버(Never) 예스터데이(Yesterday)를 레그릿(regret)하지 마라. 라이프(Life)는 투데이(today)의 마이(My) 인사이드(inside)에 있고 토모로(Tomorrow)는 오네젤프(oneself) 만드는 씽(Thing)이다. \n",
      "절대 어제를 후회하지 마라. 인생은 오늘의 내 안에 있고 내일은 스스로 만드는 것이다.\n",
      "\n",
      "네버(Never) 예스터데이(Yester Day)를 레그리트(Legrit)하지 마라. 라이프(life)는 투데이(Today)의 마이(my) 인사이드(Inside)에 있고 토모로(Tomoro)는 오네젤브(Oneselv) 만드는 싱크(Sink)이다. \n",
      "절대 어제를 후회하지 마라. 인생은 오늘의 내 안에 있고 내일은 스스로 만드는 것이다.\n"
     ]
    }
   ],
   "source": [
    "if __name__ == \"__main__\":\n",
    "    print(\"보그체로 변환하고 싶은 문장을 입력하시오\")\n",
    "    Korean_Text_b = '절대 어제를 후회하지 마라. 인생은 오늘의 내 안에 있고 내일은 스스로 만드는 것이다.'\n",
    "    Korean_Text = Korean_Text_b.split(sep=' ')\n",
    "\n",
    "    Toknize_Okt = konlpy.tag.Okt()\n",
    "    Toknized_Korean_Okt = []\n",
    "\n",
    "\n",
    "    for i in range(len(Korean_Text)):\n",
    "        Toknized_Korean_Okt.append(Toknize_Okt.pos(Korean_Text[i]))\n",
    "\n",
    "        for j in range(len(Toknized_Korean_Okt[i])):\n",
    "            Toknized_Korean_Okt[i][j] = list(Toknized_Korean_Okt[i][j])\n",
    "\n",
    "\n",
    "    word = Toknized_Korean_Okt\n",
    "    word2 = Toknized_Korean_Okt\n",
    "    Papago_Vogulize(word)\n",
    "    print()\n",
    "    Google_Vogulize(word2)\n"
   ],
   "metadata": {
    "collapsed": false,
    "pycharm": {
     "name": "#%%\n"
    }
   }
  },
  {
   "cell_type": "code",
   "execution_count": 210,
   "outputs": [
    {
     "data": {
      "text/plain": "[[['네버', 'Noun']],\n [['예스터데이', 'Noun'], ['를', 'Josa']],\n [['레그리트', 'Noun'], ['하지', 'Verb']],\n [['마라', 'Adjective'], ['.', 'Punctuation']],\n [['라이프', 'Noun'], ['는', 'Josa']],\n [['투데이', 'Noun'], ['의', 'Josa']],\n [['마이', 'Noun']],\n [['인사이드', 'Noun'], ['에', 'Josa']],\n [['있고', 'Adjective']],\n [['토모로', 'Noun'], ['는', 'Josa']],\n [['오네젤브', 'Noun']],\n [['만드는', 'Verb']],\n [['싱크', 'Noun'], ['이다', 'Josa'], ['.', 'Punctuation']]]"
     },
     "execution_count": 210,
     "metadata": {},
     "output_type": "execute_result"
    }
   ],
   "source": [
    "word"
   ],
   "metadata": {
    "collapsed": false,
    "pycharm": {
     "name": "#%%\n"
    }
   }
  },
  {
   "cell_type": "code",
   "execution_count": 212,
   "outputs": [
    {
     "data": {
      "text/plain": "[[['네버', 'Noun']],\n [['예스터데이', 'Noun'], ['를', 'Josa']],\n [['레그리트', 'Noun'], ['하지', 'Verb']],\n [['마라', 'Adjective'], ['.', 'Punctuation']],\n [['라이프', 'Noun'], ['는', 'Josa']],\n [['투데이', 'Noun'], ['의', 'Josa']],\n [['마이', 'Noun']],\n [['인사이드', 'Noun'], ['에', 'Josa']],\n [['있고', 'Adjective']],\n [['토모로', 'Noun'], ['는', 'Josa']],\n [['오네젤브', 'Noun']],\n [['만드는', 'Verb']],\n [['싱크', 'Noun'], ['이다', 'Josa'], ['.', 'Punctuation']]]"
     },
     "execution_count": 212,
     "metadata": {},
     "output_type": "execute_result"
    }
   ],
   "source": [
    "word2"
   ],
   "metadata": {
    "collapsed": false,
    "pycharm": {
     "name": "#%%\n"
    }
   }
  },
  {
   "cell_type": "code",
   "execution_count": null,
   "outputs": [],
   "source": [],
   "metadata": {
    "collapsed": false,
    "pycharm": {
     "name": "#%%\n"
    }
   }
  }
 ],
 "metadata": {
  "kernelspec": {
   "display_name": "Python 3",
   "language": "python",
   "name": "python3"
  },
  "language_info": {
   "codemirror_mode": {
    "name": "ipython",
    "version": 2
   },
   "file_extension": ".py",
   "mimetype": "text/x-python",
   "name": "python",
   "nbconvert_exporter": "python",
   "pygments_lexer": "ipython2",
   "version": "2.7.6"
  }
 },
 "nbformat": 4,
 "nbformat_minor": 0
}