{
 "cells": [
  {
   "cell_type": "code",
   "execution_count": 54,
   "outputs": [],
   "source": [
    "import konlpy\n",
    "import nltk\n",
    "import json\n",
    "import urllib.request\n",
    "import requests\n",
    "import re\n",
    "from googletrans import Translator"
   ],
   "metadata": {
    "collapsed": false,
    "pycharm": {
     "name": "#%%\n"
    }
   }
  },
  {
   "cell_type": "code",
   "execution_count": 218,
   "outputs": [
    {
     "name": "stderr",
     "output_type": "stream",
     "text": [
      "[nltk_data] Downloading package tagsets to\n",
      "[nltk_data]     C:\\Users\\kmk51\\AppData\\Roaming\\nltk_data...\n",
      "[nltk_data]   Package tagsets is already up-to-date!\n",
      "[nltk_data] Downloading package averaged_perceptron_tagger to\n",
      "[nltk_data]     C:\\Users\\kmk51\\AppData\\Roaming\\nltk_data...\n",
      "[nltk_data]   Package averaged_perceptron_tagger is already up-to-\n",
      "[nltk_data]       date!\n"
     ]
    }
   ],
   "source": [
    "nltk.download('tagsets')\n",
    "nltk.download('averaged_perceptron_tagger')\n",
    "from nltk.tag import pos_tag # 영어로 번역된 각 단어들의 품사 구분하기"
   ],
   "metadata": {
    "collapsed": false,
    "pycharm": {
     "name": "#%%\n"
    }
   }
  },
  {
   "cell_type": "code",
   "execution_count": 236,
   "outputs": [
    {
     "name": "stdout",
     "output_type": "stream",
     "text": [
      "보그체로 변환하고 싶은 문장을 입력하시오\n",
      "이것은 빵입니다. 저것은 음료수입니다. 모두 다 섭취해서 허기진 배를 채우시기를 바랍니다.\n"
     ]
    }
   ],
   "source": [
    "print(\"보그체로 변환하고 싶은 문장을 입력하시오\")\n",
    "Korean_Text_b = '이것은 빵입니다. 저것은 음료수입니다. 모두 다 섭취해서 허기진 배를 채우시기를 바랍니다.'\n",
    "print(Korean_Text_b)"
   ],
   "metadata": {
    "collapsed": false,
    "pycharm": {
     "name": "#%%\n"
    }
   }
  },
  {
   "cell_type": "code",
   "execution_count": 237,
   "outputs": [
    {
     "data": {
      "text/plain": "['이것은',\n '빵입니다.',\n '저것은',\n '음료수입니다.',\n '모두',\n '다',\n '섭취해서',\n '허기진',\n '배를',\n '채우시기를',\n '바랍니다.']"
     },
     "execution_count": 237,
     "metadata": {},
     "output_type": "execute_result"
    }
   ],
   "source": [
    "Korean_Text = Korean_Text_b.split(sep=' ')\n",
    "Korean_Text"
   ],
   "metadata": {
    "collapsed": false,
    "pycharm": {
     "name": "#%%\n"
    }
   }
  },
  {
   "cell_type": "code",
   "execution_count": 238,
   "outputs": [],
   "source": [
    "Toknize_Okt = konlpy.tag.Okt()\n",
    "Toknize_Hannanum = konlpy.tag.Hannanum()\n",
    "Toknize_Kkma = konlpy.tag.Kkma()\n",
    "\n",
    "Toknized_Korean_Okt = []\n",
    "Toknized_Korean_Hannanum = []\n",
    "Toknized_Korean_Kkma = []\n",
    "\n",
    "\n",
    "for i in range(len(Korean_Text)):\n",
    "    Toknized_Korean_Okt.append(Toknize_Okt.pos(Korean_Text[i]))\n",
    "    Toknized_Korean_Hannanum.append(Toknize_Hannanum.pos(Korean_Text[i]))\n",
    "    Toknized_Korean_Kkma.append(Toknize_Kkma.pos(Korean_Text[i]))\n",
    "\n",
    "    for j in range(len(Toknized_Korean_Okt[i])):\n",
    "        Toknized_Korean_Okt[i][j] = list(Toknized_Korean_Okt[i][j])\n",
    "\n",
    "    for j in range(len(Toknized_Korean_Hannanum[i])):\n",
    "        Toknized_Korean_Hannanum[i][j] = list(Toknized_Korean_Hannanum[i][j])\n",
    "\n",
    "    for j in range(len(Toknized_Korean_Kkma[i])):\n",
    "        Toknized_Korean_Kkma[i][j] = list(Toknized_Korean_Kkma[i][j])\n"
   ],
   "metadata": {
    "collapsed": false,
    "pycharm": {
     "name": "#%%\n"
    }
   }
  },
  {
   "cell_type": "code",
   "execution_count": 239,
   "outputs": [
    {
     "data": {
      "text/plain": "[[['이', 'Determiner'], ['것', 'Noun'], ['은', 'Josa']],\n [['빵', 'Noun'], ['입니다', 'Adjective'], ['.', 'Punctuation']],\n [['저', 'Determiner'], ['것', 'Noun'], ['은', 'Josa']],\n [['음료수', 'Noun'], ['입니다', 'Adjective'], ['.', 'Punctuation']],\n [['모두', 'Noun']],\n [['다', 'Adverb']],\n [['섭취', 'Noun'], ['해서', 'Verb']],\n [['허기진', 'Verb']],\n [['배', 'Noun'], ['를', 'Josa']],\n [['채우시', 'Verb'], ['기를', 'Verb']],\n [['바랍니다', 'Verb'], ['.', 'Punctuation']]]"
     },
     "execution_count": 239,
     "metadata": {},
     "output_type": "execute_result"
    }
   ],
   "source": [
    "Toknized_Korean_Okt"
   ],
   "metadata": {
    "collapsed": false,
    "pycharm": {
     "name": "#%%\n"
    }
   }
  },
  {
   "cell_type": "code",
   "execution_count": 240,
   "outputs": [
    {
     "data": {
      "text/plain": "[[['이것', 'N'], ['은', 'J']],\n [['빵', 'N'], ['이', 'J'], ['ㅂ니다', 'E'], ['.', 'S']],\n [['저것', 'N'], ['은', 'J']],\n [['음료수', 'N'], ['이', 'J'], ['ㅂ니다', 'E'], ['.', 'S']],\n [['모두', 'M']],\n [['다', 'M']],\n [['섭취해서', 'N']],\n [['허기진', 'N']],\n [['배', 'N'], ['를', 'J']],\n [['채우', 'P'], ['시기', 'E'], ['를', 'J']],\n [['바라', 'P'], ['ㅂ니다', 'E'], ['.', 'S']]]"
     },
     "execution_count": 240,
     "metadata": {},
     "output_type": "execute_result"
    }
   ],
   "source": [
    "Toknized_Korean_Hannanum"
   ],
   "metadata": {
    "collapsed": false,
    "pycharm": {
     "name": "#%%\n"
    }
   }
  },
  {
   "cell_type": "code",
   "execution_count": 241,
   "outputs": [
    {
     "data": {
      "text/plain": "[[['이것', 'NP'], ['은', 'JX']],\n [['빵', 'NNG'], ['이', 'VCP'], ['ㅂ니다', 'EFN'], ['.', 'SF']],\n [['저것', 'NP'], ['은', 'JX']],\n [['음료수', 'NNG'], ['이', 'VCP'], ['ㅂ니다', 'EFN'], ['.', 'SF']],\n [['모두', 'MAG']],\n [['다', 'NNG']],\n [['섭취', 'NNG'], ['하', 'XSV'], ['어서', 'ECD']],\n [['허기지', 'VV'], ['ㄴ', 'ETD']],\n [['배', 'NNG'], ['를', 'JKO']],\n [['채우', 'VV'], ['시', 'EPH'], ['기', 'ETN'], ['를', 'JKO']],\n [['바라', 'VV'], ['ㅂ니다', 'EFN'], ['.', 'SF']]]"
     },
     "execution_count": 241,
     "metadata": {},
     "output_type": "execute_result"
    }
   ],
   "source": [
    "Toknized_Korean_Kkma"
   ],
   "metadata": {
    "collapsed": false,
    "pycharm": {
     "name": "#%%\n"
    }
   }
  },
  {
   "cell_type": "code",
   "execution_count": 242,
   "outputs": [],
   "source": [
    "def ends_with_jongsung(letter): # 받침 유무 확인하기 받침이 있으면 True, 없으면 False 반환\n",
    "    m = re.search(r\"[가-힣|ㄴ]?\", letter)\n",
    "    if m:\n",
    "        n = m.group()[-1]\n",
    "        return (ord(n)-ord(\"가\")) % 28 > 0 # 나머지가 있으면 받침 있음. 반환값 생김.\n",
    "    else:\n",
    "        return None"
   ],
   "metadata": {
    "collapsed": false,
    "pycharm": {
     "name": "#%%\n"
    }
   }
  },
  {
   "cell_type": "code",
   "execution_count": 243,
   "outputs": [
    {
     "data": {
      "text/plain": "True"
     },
     "execution_count": 243,
     "metadata": {},
     "output_type": "execute_result"
    }
   ],
   "source": [
    "ends_with_jongsung(\"ㄴ\")"
   ],
   "metadata": {
    "collapsed": false,
    "pycharm": {
     "name": "#%%\n"
    }
   }
  },
  {
   "cell_type": "code",
   "execution_count": 244,
   "outputs": [],
   "source": [
    "def josa_change(letter, letter2): # 주격 조사 알맞게 change\n",
    "    josa = ''\n",
    "    if letter2 == \"을\" or letter2 == \"를\":\n",
    "        josa = \"을\" if ends_with_jongsung(letter) else \"를\" # 앞에 받침 있는 경우, 뒤에는 받침이 없는 경우\n",
    "    elif letter2 == \"이\" or letter2 == \"가\":\n",
    "        josa = \"이\" if ends_with_jongsung(letter) else \"가\"\n",
    "    elif letter2 == \"과\" or letter2 == \"와\":\n",
    "        josa = \"과\" if ends_with_jongsung(letter) else \"와\"\n",
    "    elif letter2 == \"은\" or letter2 == \"는\":\n",
    "        josa = \"은\" if ends_with_jongsung(letter) else \"는\"\n",
    "\n",
    "    return josa"
   ],
   "metadata": {
    "collapsed": false,
    "pycharm": {
     "name": "#%%\n"
    }
   }
  },
  {
   "cell_type": "code",
   "execution_count": 245,
   "outputs": [],
   "source": [
    "def guanhyeongsa_eomi_change(letter, letter2): # 관형사 어미 알맞게 change\n",
    "    '''\n",
    "    if letter2 == \"ㅇ\"\n",
    "    guanhyeonsa_eomi = \"하는\" if ends_with_jongsung(letter) else \"는\" # 받침 있고, 받침 없고\n",
    "    guanhyeonsa_eomi = \"한\"  if ends_with_jongsung(letter) else \"\"\n",
    "\n",
    "    return guanhyeonsa_eomi\n",
    "    '''\n",
    "    pass"
   ],
   "metadata": {
    "collapsed": false,
    "pycharm": {
     "name": "#%%\n"
    }
   }
  },
  {
   "cell_type": "code",
   "execution_count": 254,
   "outputs": [
    {
     "name": "stdout",
     "output_type": "stream",
     "text": [
      "번역 가능한 품사 단어 : 나이스\n",
      "나이스\n",
      "번역 불가능한 품사 단어 : 은\n",
      "번역 불가능한 품사 단어 : 빵\n",
      "번역 불가능한 품사 단어 : 이\n",
      "번역 불가능한 품사 단어 : ㅂ니다\n"
     ]
    },
    {
     "ename": "TypeError",
     "evalue": "'str' object does not support item assignment",
     "output_type": "error",
     "traceback": [
      "\u001B[1;31m---------------------------------------------------------------------------\u001B[0m",
      "\u001B[1;31mTypeError\u001B[0m                                 Traceback (most recent call last)",
      "\u001B[1;32m~\\AppData\\Local\\Temp/ipykernel_220/1896533587.py\u001B[0m in \u001B[0;36m<module>\u001B[1;34m\u001B[0m\n\u001B[0;32m     75\u001B[0m                 \u001B[1;32mif\u001B[0m \u001B[0mToknized_Korean_Hannanum\u001B[0m\u001B[1;33m[\u001B[0m\u001B[0mword\u001B[0m\u001B[1;33m]\u001B[0m\u001B[1;33m[\u001B[0m\u001B[0mw_divided\u001B[0m\u001B[1;33m]\u001B[0m\u001B[1;33m[\u001B[0m\u001B[1;36m1\u001B[0m\u001B[1;33m]\u001B[0m \u001B[1;33m==\u001B[0m \u001B[1;34m'E'\u001B[0m\u001B[1;33m:\u001B[0m\u001B[1;33m\u001B[0m\u001B[1;33m\u001B[0m\u001B[0m\n\u001B[0;32m     76\u001B[0m                     \u001B[1;32mif\u001B[0m \u001B[0mToknized_Korean_Hannanum\u001B[0m\u001B[1;33m[\u001B[0m\u001B[0mword\u001B[0m\u001B[1;33m]\u001B[0m\u001B[1;33m[\u001B[0m\u001B[0mw_divided\u001B[0m\u001B[1;33m]\u001B[0m\u001B[1;33m[\u001B[0m\u001B[1;36m0\u001B[0m\u001B[1;33m]\u001B[0m\u001B[1;33m[\u001B[0m\u001B[1;36m0\u001B[0m\u001B[1;33m]\u001B[0m \u001B[1;33m==\u001B[0m \u001B[1;34m\"ㅂ\"\u001B[0m \u001B[1;32mor\u001B[0m \u001B[0mToknized_Korean_Hannanum\u001B[0m\u001B[1;33m[\u001B[0m\u001B[0mword\u001B[0m\u001B[1;33m]\u001B[0m\u001B[1;33m[\u001B[0m\u001B[0mw_divided\u001B[0m\u001B[1;33m]\u001B[0m\u001B[1;33m[\u001B[0m\u001B[1;36m0\u001B[0m\u001B[1;33m]\u001B[0m\u001B[1;33m[\u001B[0m\u001B[1;36m0\u001B[0m\u001B[1;33m]\u001B[0m \u001B[1;33m==\u001B[0m \u001B[1;34m\"ㄴ\"\u001B[0m\u001B[1;33m:\u001B[0m\u001B[1;33m\u001B[0m\u001B[1;33m\u001B[0m\u001B[0m\n\u001B[1;32m---> 77\u001B[1;33m                         \u001B[0mToknized_Korean_Hannanum\u001B[0m\u001B[1;33m[\u001B[0m\u001B[0mword\u001B[0m\u001B[1;33m]\u001B[0m\u001B[1;33m[\u001B[0m\u001B[0mw_divided\u001B[0m\u001B[1;33m]\u001B[0m\u001B[1;33m[\u001B[0m\u001B[1;36m0\u001B[0m\u001B[1;33m]\u001B[0m\u001B[1;33m[\u001B[0m\u001B[1;36m0\u001B[0m\u001B[1;33m]\u001B[0m \u001B[1;33m=\u001B[0m \u001B[1;34m\" \"\u001B[0m\u001B[1;33m\u001B[0m\u001B[1;33m\u001B[0m\u001B[0m\n\u001B[0m\u001B[0;32m     78\u001B[0m                         \u001B[0mToknized_Korean_Hannanum\u001B[0m\u001B[1;33m[\u001B[0m\u001B[0mword\u001B[0m\u001B[1;33m]\u001B[0m\u001B[1;33m[\u001B[0m\u001B[0mw_divided\u001B[0m\u001B[1;33m]\u001B[0m\u001B[1;33m[\u001B[0m\u001B[1;36m0\u001B[0m\u001B[1;33m]\u001B[0m\u001B[1;33m.\u001B[0m\u001B[0mreplace\u001B[0m\u001B[1;33m(\u001B[0m\u001B[0mToknized_Korean_Hannanum\u001B[0m\u001B[1;33m[\u001B[0m\u001B[0mword\u001B[0m\u001B[1;33m]\u001B[0m\u001B[1;33m[\u001B[0m\u001B[0mw_divided\u001B[0m\u001B[1;33m]\u001B[0m\u001B[1;33m[\u001B[0m\u001B[1;36m0\u001B[0m\u001B[1;33m]\u001B[0m\u001B[1;33m[\u001B[0m\u001B[1;36m0\u001B[0m\u001B[1;33m]\u001B[0m\u001B[1;33m,\u001B[0m \u001B[1;34m\"\"\u001B[0m\u001B[1;33m,\u001B[0m \u001B[1;36m0\u001B[0m\u001B[1;33m)\u001B[0m\u001B[1;33m\u001B[0m\u001B[1;33m\u001B[0m\u001B[0m\n\u001B[0;32m     79\u001B[0m                         \u001B[1;31m# Toknized_Korean_Hannanum[word][w_divided-1][1][-1] = \"냅\"\u001B[0m\u001B[1;33m\u001B[0m\u001B[1;33m\u001B[0m\u001B[1;33m\u001B[0m\u001B[0m\n",
      "\u001B[1;31mTypeError\u001B[0m: 'str' object does not support item assignment"
     ]
    }
   ],
   "source": [
    "## Kkma 사용하기\n",
    "'''\n",
    "valid_grammer_Okt = ['Noun', 'Verb', 'Adjective', 'Determiner', 'Adverb', 'Conjunction', 'Exclamation']\n",
    "valid_grammer_Hannanum = ['N', 'P', 'M', 'I']\n",
    "valid_grammer_Kkma = ['NNP', 'NNG', 'NNB', 'NNBC', 'NR', 'NP', 'VV', 'VA', 'VXV', 'VXA', 'VCP', 'VCP', 'VCN', 'MDN', 'MDT', 'MAG', 'MAC', 'IC']\n",
    "non_valid_grammer_eomi_Kkma = ['EFN', 'EFQ', 'EFO', 'EFA', 'EFI', 'EFR']\n",
    "'''\n",
    "\n",
    "valid_grammer_Okt = ['Noun']\n",
    "valid_grammer_Hannanum = ['N']\n",
    "valid_grammer_Kkma = ['NNP', 'NNG', 'NNB', 'NNBC', 'NR', 'NP', 'IC']\n",
    "non_valid_grammer_eomi_Kkma = ['EFN', 'EFQ', 'EFO', 'EFA', 'EFI', 'EFR']\n",
    "\n",
    "\n",
    "stopwords =['있']\n",
    "\n",
    "\n",
    "client_id = \"DItIw9wyPPPRDPx4Hy46\"\n",
    "client_secret = \"L6ZEleX9Mp\"\n",
    "url = \"https://openapi.naver.com/v1/papago/n2mt\"\n",
    "url2 = \"https://transliterator.herokuapp.com/\"\n",
    "sess = requests.Session()\n",
    "\n",
    "vogulized_sentence = ''\n",
    "\n",
    "\n",
    "for word in range(len(Toknized_Korean_Hannanum)):\n",
    "    for w_divided in range(len(Toknized_Korean_Hannanum[word])):\n",
    "            if (Toknized_Korean_Hannanum[word][w_divided][1] in valid_grammer_Hannanum) and (len(Toknized_Korean_Hannanum[word][w_divided][0]) > 1):\n",
    "                print(\"번역 가능한 품사 단어 : \" + Toknized_Korean_Hannanum[word][w_divided][0])\n",
    "                Toknized_Text_English = urllib.parse.quote(Toknized_Korean_Hannanum[word][w_divided][0])\n",
    "                data = \"source=ko&target=en&text=\" + Toknized_Text_English\n",
    "                request = urllib.request.Request(url)\n",
    "                request.add_header(\"X-Naver-Client-Id\", client_id)\n",
    "                request.add_header(\"X-Naver-Client-Secret\", client_secret)\n",
    "                response = urllib.request.urlopen(request, data=data.encode(\"utf-8\"))\n",
    "                rescode = response.getcode()\n",
    "\n",
    "                if rescode==200:\n",
    "                    response_body = response.read()\n",
    "                    json_word = json.loads(response_body.decode(\"utf-8\"))\n",
    "                    result = json_word['message']['result']['translatedText']\n",
    "\n",
    "                    # 분절된 한국어 단어를 영어로 번역한 후 품사 매칭시키기\n",
    "                    english = []\n",
    "                    english.append(result)\n",
    "                    pos_tag_list = pos_tag(english)\n",
    "\n",
    "                    # 만약 번역된 영어 단어가 형용사 품사라면\n",
    "                    if re.match(r'^N', pos_tag_list[0][1]):\n",
    "                        payload = {'input': pos_tag_list[0][0]}\n",
    "                        res = sess.post(url2, data=payload)\n",
    "                        konglish = res.json()['output'].replace('?','') + ''\n",
    "                        Toknized_Korean_Hannanum[word][w_divided][0] = konglish\n",
    "                        print(konglish)\n",
    "                        vogulized_sentence += konglish\n",
    "\n",
    "                    else:\n",
    "                        payload = {'input': result}\n",
    "                        res = sess.post(url2, data=payload)\n",
    "                        konglish = res.json()['output'].replace('?','')\n",
    "                        Toknized_Korean_Hannanum[word][w_divided][0] = konglish\n",
    "                        print(konglish)\n",
    "                        vogulized_sentence += konglish\n",
    "\n",
    "                else:\n",
    "                    print(\"Error\")\n",
    "\n",
    "            else:\n",
    "                print(\"번역 불가능한 품사 단어 : \" + Toknized_Korean_Hannanum[word][w_divided][0])\n",
    "                '''\n",
    "                if Toknized_Korean_Hannanum[word][w_divided][1] == 'J':\n",
    "                    Toknized_Korean_Hannanum[word][w_divided][0] = josa_change(Toknized_Korean_Hannanum[word][w_divided-1][0][-1], Toknized_Korean_Hannanum[word][w_divided][0])\n",
    "                '''\n",
    "                if Toknized_Korean_Hannanum[word][w_divided][1] == 'E':\n",
    "                    if Toknized_Korean_Hannanum[word][w_divided][0][0] == \"ㅂ\" or Toknized_Korean_Hannanum[word][w_divided][0][0] == \"ㄴ\":\n",
    "                        Toknized_Korean_Hannanum[word][w_divided][0][0] =\n",
    "                        Toknized_Korean_Hannanum[word][w_divided][0].replace(Toknized_Korean_Hannanum[word][w_divided][0][0], \"\", 0)\n",
    "                        # Toknized_Korean_Hannanum[word][w_divided-1][1][-1] = \"냅\"\n",
    "                    elif Toknized_Korean_Hannanum[word][w_divided][0] == \"ㄴ다\":\n",
    "                        Toknized_Korean_Hannanum[word][w_divided][0] == \"한다\"\n",
    "\n",
    "\n",
    "\n",
    "                vogulized_sentence += str(Toknized_Korean_Hannanum[word][w_divided][0])\n",
    "\n",
    "    vogulized_sentence += ' '\n",
    "\n",
    "\n",
    "print(vogulized_sentence)\n",
    "print(Korean_Text_b)"
   ],
   "metadata": {
    "collapsed": false,
    "pycharm": {
     "name": "#%%\n"
    }
   }
  },
  {
   "cell_type": "code",
   "execution_count": 247,
   "outputs": [
    {
     "data": {
      "text/plain": "[[['이것', 'NP'], ['은', 'JX']],\n [['빵', 'NNG'], ['이', 'VCP'], ['ㅂ니다', 'EFN'], ['.', 'SF']],\n [['저것', 'NP'], ['은', 'JX']],\n [['음료수', 'NNG'], ['이', 'VCP'], ['ㅂ니다', 'EFN'], ['.', 'SF']],\n [['모두', 'MAG']],\n [['다', 'NNG']],\n [['섭취', 'NNG'], ['하', 'XSV'], ['어서', 'ECD']],\n [['허기지', 'VV'], ['ㄴ', 'ETD']],\n [['배', 'NNG'], ['를', 'JKO']],\n [['채우', 'VV'], ['시', 'EPH'], ['기', 'ETN'], ['를', 'JKO']],\n [['바라', 'VV'], ['ㅂ니다', 'EFN'], ['.', 'SF']]]"
     },
     "execution_count": 247,
     "metadata": {},
     "output_type": "execute_result"
    }
   ],
   "source": [
    "Toknized_Korean_Kkma # 앞에 받침 있으면 하려, 없으면 려"
   ],
   "metadata": {
    "collapsed": false,
    "pycharm": {
     "name": "#%%\n"
    }
   }
  },
  {
   "cell_type": "code",
   "execution_count": 249,
   "outputs": [
    {
     "name": "stdout",
     "output_type": "stream",
     "text": [
      "This is bread.That is a drink.I hope you all eat and fill your hungry stomach.\n"
     ]
    }
   ],
   "source": [
    "translator = Translator(service_urls=[\n",
    "      'translate.google.co.kr',\n",
    "    ])\n",
    "result = translator.translate(Korean_Text_b, src='ko', dest='en')\n",
    "print(result.text)"
   ],
   "metadata": {
    "collapsed": false,
    "pycharm": {
     "name": "#%%\n"
    }
   }
  },
  {
   "cell_type": "code",
   "execution_count": 250,
   "outputs": [
    {
     "data": {
      "text/plain": "'이것은 빵입니다. 저것은 음료수입니다. 모두 다 섭취해서 허기진 배를 채우시기를 바랍니다.'"
     },
     "execution_count": 250,
     "metadata": {},
     "output_type": "execute_result"
    }
   ],
   "source": [
    "Korean_Text_b"
   ],
   "metadata": {
    "collapsed": false,
    "pycharm": {
     "name": "#%%\n"
    }
   }
  },
  {
   "cell_type": "code",
   "execution_count": 251,
   "outputs": [
    {
     "name": "stdout",
     "output_type": "stream",
     "text": [
      "번역 가능한 품사 단어 : 시스\n",
      "시시스\n",
      "번역 불가능한 품사 단어 : 은\n",
      "번역 가능한 품사 단어 : 빵\n",
      "브레드\n",
      "번역 불가능한 품사 단어 : 이\n",
      "번역 불가능한 품사 단어 : ㅂ니다\n",
      "번역 불가능한 품사 단어 : .\n",
      "번역 가능한 품사 단어 : 뎃\n",
      "데스티네이션\n",
      "번역 불가능한 품사 단어 : 은\n",
      "번역 가능한 품사 단어 : 드링크\n",
      "드링크\n",
      "번역 불가능한 품사 단어 : 이\n",
      "번역 불가능한 품사 단어 : ㅂ니다\n",
      "번역 불가능한 품사 단어 : .\n",
      "번역 불가능한 품사 단어 : 모두\n",
      "번역 불가능한 품사 단어 : 다\n",
      "번역 가능한 품사 단어 : 일에이크잇\n",
      "일액\n",
      "번역 가능한 품사 단어 : 헝그리\n",
      "헝그리\n",
      "번역 가능한 품사 단어 : 배\n",
      "십\n",
      "번역 불가능한 품사 단어 : 를\n",
      "번역 불가능한 품사 단어 : 채우\n",
      "번역 불가능한 품사 단어 : 시\n",
      "번역 불가능한 품사 단어 : 기\n",
      "번역 불가능한 품사 단어 : 바라\n",
      "번역 불가능한 품사 단어 : ㅂ니다\n",
      "번역 불가능한 품사 단어 : .\n",
      "시시스은 브레드이ㅂ니다. 데스티네이션은 드링크이ㅂ니다. 모두 다 일액 헝그리 십를 채우시기 바라ㅂ니다. \n",
      "이것은 빵입니다. 저것은 음료수입니다. 모두 다 섭취해서 허기진 배를 채우시기를 바랍니다.\n"
     ]
    }
   ],
   "source": [
    "'''\n",
    "valid_grammer_Okt = ['Noun', 'Verb', 'Adjective', 'Determiner', 'Adverb', 'Conjunction', 'Exclamation']\n",
    "valid_grammer_Hannanum = ['N', 'P', 'M', 'I']\n",
    "valid_grammer_Kkma = ['NNP', 'NNG', 'NNB', 'NNBC', 'NR', 'NP', 'VV', 'VA', 'VXV', 'VXA', 'VCP', 'VCP', 'VCN', 'MDN', 'MDT', 'MAG', 'MAC', 'IC']\n",
    "non_valid_grammer_eomi_Kkma = ['EFN', 'EFQ', 'EFO', 'EFA', 'EFI', 'EFR']\n",
    "'''\n",
    "\n",
    "valid_grammer_Okt = ['Noun']\n",
    "valid_grammer_Hannanum = ['N']\n",
    "valid_grammer_Kkma = ['NNP', 'NNG', 'NNB', 'NNBC', 'NR', 'NP', 'IC']\n",
    "non_valid_grammer_eomi_Kkma = ['EFN', 'EFQ', 'EFO', 'EFA', 'EFI', 'EFR']\n",
    "\n",
    "\n",
    "stopwords =['있']\n",
    "\n",
    "\n",
    "translator = Translator(service_urls=['translate.google.co.kr'])\n",
    "url2 = \"https://transliterator.herokuapp.com/\"\n",
    "sess = requests.Session()\n",
    "vogulized_sentence = ''\n",
    "\n",
    "for word in range(len(Toknized_Korean_Hannanum)):\n",
    "    for w_divided in range(len(Toknized_Korean_Hannanum[word])):\n",
    "            if Toknized_Korean_Hannanum[word][w_divided][1] in valid_grammer_Hannanum and Toknized_Korean_Hannanum[word][w_divided][0] not in stopwords:\n",
    "                print(\"번역 가능한 품사 단어 : \" + Toknized_Korean_Hannanum[word][w_divided][0])\n",
    "\n",
    "                konglish = translator.translate(Toknized_Korean_Hannanum[word][w_divided][0], src='ko', dest='en').text\n",
    "                payload = {'input': konglish}\n",
    "                res = sess.post(url2, data=payload)\n",
    "                konglish = res.json()['output'].replace('?','')\n",
    "                Toknized_Korean_Kkma[word][w_divided][0] = konglish\n",
    "                print(konglish)\n",
    "\n",
    "                vogulized_sentence += konglish\n",
    "\n",
    "            else:\n",
    "                print(\"번역 불가능한 품사 단어 : \" + Toknized_Korean_Kkma[word][w_divided][0])\n",
    "                if Toknized_Korean_Kkma[word][w_divided][1] == 'JKS':\n",
    "                    Toknized_Korean_Kkma[word][w_divided][0] = josa_change(Toknized_Korean_Kkma[word][w_divided-1][0][-1], Toknized_Korean_Kkma[word][w_divided][0])\n",
    "\n",
    "                if Toknized_Korean_Kkma[word][w_divided][1] == 'ETD' or Toknized_Korean_Kkma[word][w_divided][1] =='EFN':\n",
    "                    if Toknized_Korean_Kkma[word][w_divided][0] == \"ㄴ\" :\n",
    "                        Toknized_Korean_Kkma[word][w_divided][0] == \"한\"\n",
    "                    elif Toknized_Korean_Kkma[word][w_divided][0] == \"ㄴ다\":\n",
    "                        Toknized_Korean_Kkma[word][w_divided][0] == \"한다\"\n",
    "\n",
    "\n",
    "\n",
    "                vogulized_sentence += str(Toknized_Korean_Kkma[word][w_divided][0])\n",
    "\n",
    "    vogulized_sentence += ' '\n",
    "\n",
    "\n",
    "print(vogulized_sentence)\n",
    "print(Korean_Text_b)\n",
    "\n",
    "# nltk 같은 걸로 영어 품사에 따라 주격조사 은,는,이,가 지정하기\n",
    "# ex) 맛있는 -> 딜리셔스는 -> 딜리셔스한\n",
    "# 만약 영어 형용사 + 뒤에 은/는 이면 한으로 주격조사 바꾸기"
   ],
   "metadata": {
    "collapsed": false,
    "pycharm": {
     "name": "#%%\n"
    }
   }
  },
  {
   "cell_type": "code",
   "execution_count": null,
   "outputs": [],
   "source": [],
   "metadata": {
    "collapsed": false,
    "pycharm": {
     "name": "#%%\n"
    }
   }
  }
 ],
 "metadata": {
  "kernelspec": {
   "display_name": "Python 3",
   "language": "python",
   "name": "python3"
  },
  "language_info": {
   "codemirror_mode": {
    "name": "ipython",
    "version": 2
   },
   "file_extension": ".py",
   "mimetype": "text/x-python",
   "name": "python",
   "nbconvert_exporter": "python",
   "pygments_lexer": "ipython2",
   "version": "2.7.6"
  }
 },
 "nbformat": 4,
 "nbformat_minor": 0
}