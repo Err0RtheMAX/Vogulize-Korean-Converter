{
 "cells": [
  {
   "cell_type": "code",
   "execution_count": 1,
   "metadata": {
    "pycharm": {
     "name": "#%%\n"
    }
   },
   "outputs": [],
   "source": [
    "import konlpy\n",
    "import json\n",
    "import urllib.request\n",
    "import requests\n",
    "import re\n",
    "from googletrans import Translator"
   ]
  },
  {
   "cell_type": "code",
   "execution_count": 2,
   "metadata": {
    "pycharm": {
     "name": "#%%\n"
    }
   },
   "outputs": [],
   "source": [
    "def ends_with_jongsung(letter): # 받침 유무 확인하기 받침이 있으면 True, 없으면 False 반환\n",
    "    m = re.search(r\"[가-힣|ㄴ]?\", letter)\n",
    "    if m:\n",
    "        n = m.group()[-1]\n",
    "        return (ord(n)-ord(\"가\")) % 28 > 0 # 나머지가 있으면 받침 있음. 반환값 생김.\n",
    "    else:\n",
    "        return None"
   ]
  },
  {
   "cell_type": "code",
   "execution_count": 3,
   "metadata": {
    "pycharm": {
     "name": "#%%\n"
    }
   },
   "outputs": [],
   "source": [
    "def josa_change(letter, letter2): # 주격 조사 알맞게 change\n",
    "    josa = ''\n",
    "    if letter2 == \"을\" or letter2 == \"를\":\n",
    "        josa = \"을\" if ends_with_jongsung(letter) else \"를\" # 앞에 받침 있는 경우, 뒤에는 받침이 없는 경우\n",
    "    elif letter2 == \"이\" or letter2 == \"가\":\n",
    "        josa = \"이\" if ends_with_jongsung(letter) else \"가\"\n",
    "    elif letter2 == \"과\" or letter2 == \"와\":\n",
    "        josa = \"과\" if ends_with_jongsung(letter) else \"와\"\n",
    "    elif letter2 == \"은\" or letter2 == \"는\":\n",
    "        josa = \"은\" if ends_with_jongsung(letter) else \"는\"\n",
    "\n",
    "    return josa"
   ]
  },
  {
   "cell_type": "code",
   "execution_count": 4,
   "metadata": {
    "pycharm": {
     "name": "#%%\n"
    }
   },
   "outputs": [],
   "source": [
    "## PaPago로 보그체 만들기\n",
    "def Papago_Vogulize(Toknized_Korean_Okt):\n",
    "    valid_grammer_Okt = ['Noun', 'Exclamation']\n",
    "\n",
    "\n",
    "    client_id = \"DItIw9wyPPPRDPx4Hy46\"\n",
    "    client_secret = \"L6ZEleX9Mp\"\n",
    "    url = \"https://openapi.naver.com/v1/papago/n2mt\"\n",
    "    url2 = \"https://transliterator.herokuapp.com/\"\n",
    "    sess = requests.Session()\n",
    "\n",
    "    vogulized_sentence = ''\n",
    "\n",
    "\n",
    "    for word in range(len(Toknized_Korean_Okt)):\n",
    "        for w_divided in range(len(Toknized_Korean_Okt[word])):\n",
    "                if (Toknized_Korean_Okt[word][w_divided][1] in valid_grammer_Okt) and (len(Toknized_Korean_Okt[word][w_divided][0]) >= 1):\n",
    "                    # print(\"번역 가능한 품사 단어 : \" + Toknized_Korean_Okt[word][w_divided][0])\n",
    "                    Toknized_Text_English = urllib.parse.quote(Toknized_Korean_Okt[word][w_divided][0])\n",
    "                    data = \"source=ko&target=en&text=\" + Toknized_Text_English\n",
    "                    request = urllib.request.Request(url)\n",
    "                    request.add_header(\"X-Naver-Client-Id\", client_id)\n",
    "                    request.add_header(\"X-Naver-Client-Secret\", client_secret)\n",
    "                    response = urllib.request.urlopen(request, data=data.encode(\"utf-8\"))\n",
    "                    rescode = response.getcode()\n",
    "\n",
    "                    if rescode==200:\n",
    "                        response_body = response.read()\n",
    "                        json_word = json.loads(response_body.decode(\"utf-8\"))\n",
    "                        result = json_word['message']['result']['translatedText']\n",
    "\n",
    "                        split_english = result.split(sep=' ')\n",
    "\n",
    "                        konglish = ''\n",
    "\n",
    "                        for w in range(len(split_english)):\n",
    "                            payload = {'input':split_english[w]}\n",
    "                            res = sess.post(url2, data=payload)\n",
    "                            konglish += res.json()['output'].replace('?','')\n",
    "\n",
    "                        Toknized_Korean_Okt[word][w_divided][0] = konglish\n",
    "                        # print(konglish)\n",
    "                        result = re.sub(r'\\.', '', result)\n",
    "                        konglish = str(konglish + '(' + result + ')')\n",
    "                        vogulized_sentence += konglish\n",
    "\n",
    "                    else:\n",
    "                        print(\"Error\")\n",
    "\n",
    "                else:\n",
    "                    # print(\"번역 불가능한 품사 단어 : \" + Toknized_Korean_Okt[word][w_divided][0])\n",
    "\n",
    "                    if Toknized_Korean_Okt[word][w_divided][1] == 'Josa' and Toknized_Korean_Okt[word][w_divided][0] in ['은', '는', '이', '가', '과', '와', '을', '를']:\n",
    "                        Toknized_Korean_Okt[word][w_divided][0] = josa_change(Toknized_Korean_Okt[word][w_divided-1][0][-1], Toknized_Korean_Okt[word][w_divided][0])\n",
    "\n",
    "                    vogulized_sentence += str(Toknized_Korean_Okt[word][w_divided][0])\n",
    "\n",
    "        vogulized_sentence += ' '\n",
    "\n",
    "    print()\n",
    "    print(vogulized_sentence)\n",
    "    print()\n",
    "    print(Korean_Text_b)"
   ]
  },
  {
   "cell_type": "code",
   "execution_count": 5,
   "metadata": {
    "pycharm": {
     "name": "#%%\n"
    }
   },
   "outputs": [],
   "source": [
    "## 구글 번역기 보그체로 바꾸기\n",
    "def Google_Vogulize(Toknized_Korean_Okt):\n",
    "    valid_grammer_Okt = ['Noun', 'Exclamation']\n",
    "\n",
    "\n",
    "    translator = Translator(service_urls=['translate.google.co.kr'])\n",
    "    url2 = \"https://transliterator.herokuapp.com/\"\n",
    "    sess = requests.Session()\n",
    "    vogulized_sentence = ''\n",
    "\n",
    "    for word in range(len(Toknized_Korean_Okt)):\n",
    "        for w_divided in range(len(Toknized_Korean_Okt[word])):\n",
    "                if Toknized_Korean_Okt[word][w_divided][1] in valid_grammer_Okt and (len(Toknized_Korean_Okt[word][w_divided][0]) >= 1):\n",
    "                    # print(\"번역 가능한 품사 단어 : \" + Toknized_Korean_Okt[word][w_divided][0])\n",
    "\n",
    "                    konglish = translator.translate(Toknized_Korean_Okt[word][w_divided][0], src='ko', dest='en').text\n",
    "                    result2 = konglish\n",
    "\n",
    "                    split_english = konglish.split(sep=' ')\n",
    "\n",
    "                    konglish = ''\n",
    "\n",
    "                    for w in range(len(split_english)):\n",
    "                        payload = {'input':split_english[w]}\n",
    "                        res = sess.post(url2, data=payload)\n",
    "                        konglish += res.json()['output'].replace('?','')\n",
    "\n",
    "                    Toknized_Korean_Okt[word][w_divided][0] = konglish\n",
    "                    konglish = str(konglish + '(' + result2 + ')')\n",
    "                    # print(konglish)\n",
    "\n",
    "                    vogulized_sentence += konglish\n",
    "\n",
    "                else:\n",
    "                    # print(\"번역 불가능한 품사 단어 : \" + Toknized_Korean_Okt[word][w_divided][0])\n",
    "\n",
    "                    if Toknized_Korean_Okt[word][w_divided][1] == 'Josa' and Toknized_Korean_Okt[word][w_divided][0] in ['은', '는', '이', '가', '과', '와', '을', '를']:\n",
    "                        Toknized_Korean_Okt[word][w_divided][0] = josa_change(Toknized_Korean_Okt[word][w_divided-1][0][-1], Toknized_Korean_Okt[word][w_divided][0])\n",
    "\n",
    "                    vogulized_sentence += str(Toknized_Korean_Okt[word][w_divided][0])\n",
    "\n",
    "        vogulized_sentence += ' '\n",
    "\n",
    "    print()\n",
    "    print(vogulized_sentence)\n",
    "    print()\n",
    "    print(Korean_Text_b)"
   ]
  },
  {
   "cell_type": "code",
   "execution_count": 8,
   "metadata": {
    "pycharm": {
     "name": "#%%\n"
    }
   },
   "outputs": [
    {
     "name": "stdout",
     "output_type": "stream",
     "text": [
      "보그체로 변환하고 싶은 문장을 입력하세요.\n",
      "보그체로 변환할 때 사용할 번역기의 숫자를 입력하세요. (1: 네이버 파파고, 2: 구글 번역기)\n",
      "\n",
      "구글 번역기를 선택했습니다.\n",
      "\n",
      "유(you)의 엑시스턴스(existence)는 내게 스트렌스(strength)를 줍니다. \n",
      "\n",
      "당신의 존재는 내게 힘을 줍니다.\n"
     ]
    }
   ],
   "source": [
    "if __name__ == \"__main__\":\n",
    "\n",
    "    print(\"보그체로 변환하고 싶은 문장을 입력하세요.\")\n",
    "    Korean_Text_b = input()\n",
    "    Korean_Text = Korean_Text_b.split(sep=' ')\n",
    "\n",
    "    Toknize_Okt = konlpy.tag.Okt()\n",
    "    Toknized_Korean_Okt = []\n",
    "\n",
    "\n",
    "    for i in range(len(Korean_Text)):\n",
    "        Toknized_Korean_Okt.append(Toknize_Okt.pos(Korean_Text[i]))\n",
    "\n",
    "        for j in range(len(Toknized_Korean_Okt[i])):\n",
    "            Toknized_Korean_Okt[i][j] = list(Toknized_Korean_Okt[i][j])\n",
    "\n",
    "    print(\"보그체로 변환할 때 사용할 번역기의 숫자를 입력하세요. (1: 네이버 파파고, 2: 구글 번역기)\")\n",
    "    num = int(input())\n",
    "    while num != 1 or num != 2:\n",
    "        if num == 1:\n",
    "            print()\n",
    "            print(\"네이버 파파고를 선택했습니다.\")\n",
    "            Papago_Vogulize(Toknized_Korean_Okt)\n",
    "            break\n",
    "\n",
    "        elif num == 2:\n",
    "            print()\n",
    "            print(\"구글 번역기를 선택했습니다.\")\n",
    "            Google_Vogulize(Toknized_Korean_Okt)\n",
    "            break\n",
    "\n",
    "\n",
    "        else:\n",
    "            print(\"잘못 입력했습니다. 다시 선택해 주세요. (1: 네이버 파파고, 2: 구글 번역기)\")\n",
    "            num = int(input())"
   ]
  },
  {
   "cell_type": "code",
   "execution_count": 33,
   "metadata": {
    "pycharm": {
     "name": "#%%\n"
    }
   },
   "outputs": [],
   "source": [
    "# 나의 친구가 되어주셔서 고맙습니다. 내가 지쳐 쓰러져 있을 때, 당신의 존재는 내게 힘을 줍니다. 내가 어쩔 줄 몰라 뭔가 찾고 있을 때 당신의 존재는 내게 해답을 줍니다. 내가 행복하고 신이 날 때, 당신의 존재는 내게 행복의 그램 수를 높여줍니다. 부디 영원히 머물러 주십시요. 나의 삶 속에."
   ]
  },
  {
   "cell_type": "code",
   "execution_count": null,
   "metadata": {
    "pycharm": {
     "name": "#%%\n"
    }
   },
   "outputs": [],
   "source": []
  }
 ],
 "metadata": {
  "kernelspec": {
   "display_name": "Python 3 (ipykernel)",
   "language": "python",
   "name": "python3"
  },
  "language_info": {
   "codemirror_mode": {
    "name": "ipython",
    "version": 3
   },
   "file_extension": ".py",
   "mimetype": "text/x-python",
   "name": "python",
   "nbconvert_exporter": "python",
   "pygments_lexer": "ipython3",
   "version": "3.8.5"
  }
 },
 "nbformat": 4,
 "nbformat_minor": 1
}