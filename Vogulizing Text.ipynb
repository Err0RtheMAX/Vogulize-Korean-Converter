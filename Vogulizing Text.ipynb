{
 "cells": [
  {
   "cell_type": "code",
   "execution_count": 17,
   "outputs": [],
   "source": [
    "import konlpy\n",
    "import json\n",
    "import urllib.request\n",
    "import requests\n",
    "import re\n",
    "from googletrans import Translator"
   ],
   "metadata": {
    "collapsed": false,
    "pycharm": {
     "name": "#%%\n"
    }
   }
  },
  {
   "cell_type": "code",
   "execution_count": 18,
   "outputs": [],
   "source": [
    "def ends_with_jongsung(letter): # 받침 유무 확인하기 받침이 있으면 True, 없으면 False 반환\n",
    "    m = re.search(r\"[가-힣|ㄴ]?\", letter)\n",
    "    if m:\n",
    "        n = m.group()[-1]\n",
    "        return (ord(n)-ord(\"가\")) % 28 > 0 # 나머지가 있으면 받침 있음. 반환값 생김.\n",
    "    else:\n",
    "        return None"
   ],
   "metadata": {
    "collapsed": false,
    "pycharm": {
     "name": "#%%\n"
    }
   }
  },
  {
   "cell_type": "code",
   "execution_count": 19,
   "outputs": [],
   "source": [
    "def josa_change(letter, letter2): # 주격 조사 알맞게 change\n",
    "    josa = ''\n",
    "    if letter2 == \"을\" or letter2 == \"를\":\n",
    "        josa = \"을\" if ends_with_jongsung(letter) else \"를\" # 앞에 받침 있는 경우, 뒤에는 받침이 없는 경우\n",
    "    elif letter2 == \"이\" or letter2 == \"가\":\n",
    "        josa = \"이\" if ends_with_jongsung(letter) else \"가\"\n",
    "    elif letter2 == \"과\" or letter2 == \"와\":\n",
    "        josa = \"과\" if ends_with_jongsung(letter) else \"와\"\n",
    "    elif letter2 == \"은\" or letter2 == \"는\":\n",
    "        josa = \"은\" if ends_with_jongsung(letter) else \"는\"\n",
    "\n",
    "    return josa"
   ],
   "metadata": {
    "collapsed": false,
    "pycharm": {
     "name": "#%%\n"
    }
   }
  },
  {
   "cell_type": "code",
   "execution_count": 26,
   "outputs": [],
   "source": [
    "## PaPago로 보그체 만들기\n",
    "def Papago_Vogulize(Toknized_Korean_Okt):\n",
    "    valid_grammer_Okt = ['Noun', 'Exlamation', 'Adjective']\n",
    "\n",
    "\n",
    "    client_id = \"DItIw9wyPPPRDPx4Hy46\"\n",
    "    client_secret = \"L6ZEleX9Mp\"\n",
    "    url = \"https://openapi.naver.com/v1/papago/n2mt\"\n",
    "    url2 = \"https://transliterator.herokuapp.com/\"\n",
    "    sess = requests.Session()\n",
    "\n",
    "    vogulized_sentence = ''\n",
    "\n",
    "\n",
    "    for word in range(len(Toknized_Korean_Okt)):\n",
    "        for w_divided in range(len(Toknized_Korean_Okt[word])):\n",
    "                if (Toknized_Korean_Okt[word][w_divided][1] in valid_grammer_Okt) and (len(Toknized_Korean_Okt[word][w_divided][0]) > 1):\n",
    "                    # print(\"번역 가능한 품사 단어 : \" + Toknized_Korean_Okt[word][w_divided][0])\n",
    "                    Toknized_Text_English = urllib.parse.quote(Toknized_Korean_Okt[word][w_divided][0])\n",
    "                    data = \"source=ko&target=en&text=\" + Toknized_Text_English\n",
    "                    request = urllib.request.Request(url)\n",
    "                    request.add_header(\"X-Naver-Client-Id\", client_id)\n",
    "                    request.add_header(\"X-Naver-Client-Secret\", client_secret)\n",
    "                    response = urllib.request.urlopen(request, data=data.encode(\"utf-8\"))\n",
    "                    rescode = response.getcode()\n",
    "\n",
    "                    if rescode==200:\n",
    "                        response_body = response.read()\n",
    "                        json_word = json.loads(response_body.decode(\"utf-8\"))\n",
    "                        result = json_word['message']['result']['translatedText']\n",
    "                        Toknized_Korean_Okt[word][w_divided][0]\n",
    "\n",
    "                        payload = {'input': result}\n",
    "                        res = sess.post(url2, data=payload)\n",
    "                        konglish = res.json()['output'].replace('?','')\n",
    "                        Toknized_Korean_Okt[word][w_divided][0] = konglish\n",
    "                        # print(konglish)\n",
    "                        result = re.sub(r'\\.', '', result)\n",
    "                        konglish = str(konglish + '(' + result + ')')\n",
    "                        vogulized_sentence += konglish\n",
    "\n",
    "                    else:\n",
    "                        print(\"Error\")\n",
    "\n",
    "                else:\n",
    "                    # print(\"번역 불가능한 품사 단어 : \" + Toknized_Korean_Okt[word][w_divided][0])\n",
    "\n",
    "                    if Toknized_Korean_Okt[word][w_divided][1] == 'Josa' and Toknized_Korean_Okt[word][w_divided][0] in ['은', '는', '이', '가', '과', '와', '을', '를']:\n",
    "                        Toknized_Korean_Okt[word][w_divided][0] = josa_change(Toknized_Korean_Okt[word][w_divided-1][0][-1], Toknized_Korean_Okt[word][w_divided][0])\n",
    "\n",
    "                    vogulized_sentence += str(Toknized_Korean_Okt[word][w_divided][0])\n",
    "\n",
    "        vogulized_sentence += ' '\n",
    "\n",
    "    print()\n",
    "    print(vogulized_sentence)\n",
    "    print()\n",
    "    print(Korean_Text_b)"
   ],
   "metadata": {
    "collapsed": false,
    "pycharm": {
     "name": "#%%\n"
    }
   }
  },
  {
   "cell_type": "code",
   "execution_count": 27,
   "outputs": [],
   "source": [
    "## 구글 번역기 보그체로 바꾸기\n",
    "def Google_Vogulize(Toknized_Korean_Okt):\n",
    "    valid_grammer_Okt = ['Noun', 'Exlamation', 'Adjective']\n",
    "\n",
    "\n",
    "    translator = Translator(service_urls=['translate.google.co.kr'])\n",
    "    url2 = \"https://transliterator.herokuapp.com/\"\n",
    "    sess = requests.Session()\n",
    "    vogulized_sentence = ''\n",
    "\n",
    "    for word in range(len(Toknized_Korean_Okt)):\n",
    "        for w_divided in range(len(Toknized_Korean_Okt[word])):\n",
    "                if Toknized_Korean_Okt[word][w_divided][1] in valid_grammer_Okt and (len(Toknized_Korean_Okt[word][w_divided][0]) > 1):\n",
    "                    # print(\"번역 가능한 품사 단어 : \" + Toknized_Korean_Okt[word][w_divided][0])\n",
    "\n",
    "                    konglish = translator.translate(Toknized_Korean_Okt[word][w_divided][0], src='ko', dest='en').text\n",
    "                    result2 = konglish\n",
    "                    payload = {'input': konglish}\n",
    "                    res = sess.post(url2, data=payload)\n",
    "                    konglish = res.json()['output'].replace('?','')\n",
    "                    Toknized_Korean_Okt[word][w_divided][0] = konglish\n",
    "                    konglish = str(konglish + '(' + result2 + ')')\n",
    "                    # print(konglish)\n",
    "\n",
    "                    vogulized_sentence += konglish\n",
    "\n",
    "                else:\n",
    "                    # print(\"번역 불가능한 품사 단어 : \" + Toknized_Korean_Okt[word][w_divided][0])\n",
    "\n",
    "                    if Toknized_Korean_Okt[word][w_divided][1] == 'Josa' and Toknized_Korean_Okt[word][w_divided][0] in ['은', '는', '이', '가', '과', '와', '을', '를']:\n",
    "                        Toknized_Korean_Okt[word][w_divided][0] = josa_change(Toknized_Korean_Okt[word][w_divided-1][0][-1], Toknized_Korean_Okt[word][w_divided][0])\n",
    "\n",
    "                    vogulized_sentence += str(Toknized_Korean_Okt[word][w_divided][0])\n",
    "\n",
    "        vogulized_sentence += ' '\n",
    "\n",
    "    print()\n",
    "    print(vogulized_sentence)\n",
    "    print()\n",
    "    print(Korean_Text_b)"
   ],
   "metadata": {
    "collapsed": false,
    "pycharm": {
     "name": "#%%\n"
    }
   }
  },
  {
   "cell_type": "code",
   "execution_count": 29,
   "outputs": [
    {
     "name": "stdout",
     "output_type": "stream",
     "text": [
      "보그체로 변환하고 싶은 문장을 입력하세요.\n",
      "보그체로 변환할 때 사용할 번역기의 숫자를 입력하세요. (1: 네이버 파파고, 2: 구글 번역기)\n",
      "\n",
      "네이버 파파고를 선택했습니다.\n",
      "\n",
      "더(We)는 심플리(simply) 사는법을 잊어버렸다.  버시(Busy) 일인허리턴스(Inheritance)에 오카시오널리(occasionally) 비치는 오아시스(Oasis) 앞에 앉은 듯한 스틸(still) 모멘트(Moment)가 찾아와도 더(We)는 세인트(That)가 더(We) 삶의 넥스트(next) 단비찬스(by chance)의 풀필먼트(fulfillment)를 리저브(reserve)해주는 밸류블(Valuable) 모멘트(Moment)이라는 걸 알지못한다. \n",
      "\n",
      "우리는 단순하게 사는법을 잊어버렸다.  바쁜 일상속에 간혹 비치는 오아시스 앞에 앉은 듯한 고요한 순간이 찾아와도 우리는 그것이 우리 삶의 다음 단계로의 이행을 예비해주는 귀중한 순간이라는 걸 알지못한다.\n"
     ]
    }
   ],
   "source": [
    "if __name__ == \"__main__\":\n",
    "\n",
    "    print(\"보그체로 변환하고 싶은 문장을 입력하세요.\")\n",
    "    Korean_Text_b = input()\n",
    "    Korean_Text = Korean_Text_b.split(sep=' ')\n",
    "\n",
    "    Toknize_Okt = konlpy.tag.Okt()\n",
    "    Toknized_Korean_Okt = []\n",
    "\n",
    "\n",
    "    for i in range(len(Korean_Text)):\n",
    "        Toknized_Korean_Okt.append(Toknize_Okt.pos(Korean_Text[i]))\n",
    "\n",
    "        for j in range(len(Toknized_Korean_Okt[i])):\n",
    "            Toknized_Korean_Okt[i][j] = list(Toknized_Korean_Okt[i][j])\n",
    "\n",
    "    print(\"보그체로 변환할 때 사용할 번역기의 숫자를 입력하세요. (1: 네이버 파파고, 2: 구글 번역기)\")\n",
    "    num = int(input())\n",
    "    while num != 1 or num != 2:\n",
    "        if num == 1:\n",
    "            print()\n",
    "            print(\"네이버 파파고를 선택했습니다.\")\n",
    "            Papago_Vogulize(Toknized_Korean_Okt)\n",
    "            break\n",
    "\n",
    "        elif num == 2:\n",
    "            print()\n",
    "            print(\"구글 번역기를 선택했습니다.\")\n",
    "            Google_Vogulize(Toknized_Korean_Okt)\n",
    "            break\n",
    "\n",
    "\n",
    "        else:\n",
    "            print(\"잘못 입력했습니다. 다시 선택해 주세요. (1: 네이버 파파고, 2: 구글 번역기)\")\n",
    "            num = int(input())"
   ],
   "metadata": {
    "collapsed": false,
    "pycharm": {
     "name": "#%%\n"
    }
   }
  }
 ],
 "metadata": {
  "kernelspec": {
   "display_name": "Python 3",
   "language": "python",
   "name": "python3"
  },
  "language_info": {
   "codemirror_mode": {
    "name": "ipython",
    "version": 2
   },
   "file_extension": ".py",
   "mimetype": "text/x-python",
   "name": "python",
   "nbconvert_exporter": "python",
   "pygments_lexer": "ipython2",
   "version": "2.7.6"
  }
 },
 "nbformat": 4,
 "nbformat_minor": 0
}