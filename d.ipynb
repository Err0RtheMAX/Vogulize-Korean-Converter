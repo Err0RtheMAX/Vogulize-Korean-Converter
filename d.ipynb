{
 "cells": [
  {
   "cell_type": "code",
   "execution_count": null,
   "metadata": {
    "collapsed": true,
    "pycharm": {
     "name": "#%%\n"
    }
   },
   "outputs": [],
   "source": []
  },
  {
   "cell_type": "code",
   "execution_count": null,
   "outputs": [],
   "source": [
    "\n",
    "def Google_Vogulize(Okt_sentence_2):\n",
    "    valid_grammer_Okt = ['Noun', 'Exlamation']\n",
    "\n",
    "\n",
    "    stopwords =['있']\n",
    "\n",
    "\n",
    "    translator = Translator(service_urls=['translate.google.co.kr'])\n",
    "    url2 = \"https://transliterator.herokuapp.com/\"\n",
    "    sess = requests.Session()\n",
    "    vogulized_sentence = ''\n",
    "\n",
    "    for word in range(len(Okt_sentence_2)):\n",
    "        for w_divided in range(len(Okt_sentence_2[word])):\n",
    "                if Okt_sentence_2[word][w_divided][1] in valid_grammer_Okt and Okt_sentence_2[word][w_divided][0] not in stopwords:\n",
    "                    # print(\"번역 가능한 품사 단어 : \" + Okt_sentence_2[word][w_divided][0])\n",
    "\n",
    "                    konglish = translator.translate(Okt_sentence_2[word][w_divided][0], src='ko', dest='en').text\n",
    "                    result2 = konglish\n",
    "                    payload = {'input': konglish}\n",
    "                    res = sess.post(url2, data=payload)\n",
    "                    konglish = res.json()['output'].replace('?','')\n",
    "                    Okt_sentence_2[word][w_divided][0] = konglish\n",
    "                    konglish = str(konglish + '(' + result2 + ')')\n",
    "                    # print(konglish)\n",
    "\n",
    "                    vogulized_sentence += konglish\n",
    "\n",
    "                else:\n",
    "                    # print(\"번역 불가능한 품사 단어 : \" + Okt_sentence_2[word][w_divided][0])\n",
    "\n",
    "                    if Okt_sentence_2[word][w_divided][1] == 'Josa' and Okt_sentence_2[word][w_divided][0] in ['은', '는', '이', '가', '과', '와', '을', '를']:\n",
    "                        Okt_sentence_2[word][w_divided][0] = josa_change(Okt_sentence_2[word][w_divided-1][0][-1], Okt_sentence_2[word][w_divided][0])\n",
    "\n",
    "                    vogulized_sentence += str(Okt_sentence_2[word][w_divided][0])\n",
    "\n",
    "        vogulized_sentence += ' '\n",
    "\n",
    "\n",
    "    print(vogulized_sentence)\n",
    "    print(Korean_Text_b)"
   ],
   "metadata": {
    "collapsed": false,
    "pycharm": {
     "name": "#%%\n"
    }
   }
  }
 ],
 "metadata": {
  "kernelspec": {
   "display_name": "Python 3",
   "language": "python",
   "name": "python3"
  },
  "language_info": {
   "codemirror_mode": {
    "name": "ipython",
    "version": 2
   },
   "file_extension": ".py",
   "mimetype": "text/x-python",
   "name": "python",
   "nbconvert_exporter": "python",
   "pygments_lexer": "ipython2",
   "version": "2.7.6"
  }
 },
 "nbformat": 4,
 "nbformat_minor": 0
}